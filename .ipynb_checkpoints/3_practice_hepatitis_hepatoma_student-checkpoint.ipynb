{
 "cells": [
  {
   "cell_type": "code",
   "execution_count": null,
   "metadata": {},
   "outputs": [],
   "source": []
  },
  {
   "cell_type": "code",
   "execution_count": null,
   "metadata": {},
   "outputs": [],
   "source": []
  },
  {
   "cell_type": "markdown",
   "metadata": {},
   "source": [
    "<center><h1> Practice_hepatitis_hepatoma </h1></center>"
   ]
  },
  {
   "cell_type": "markdown",
   "metadata": {},
   "source": [
    "* < values and indices >   \n",
    "\n",
    "```\n",
    "df.values    \n",
    "\n",
    "df.columns    \n",
    "\n",
    "df.columns = [‘번호’, ‘기업’, ‘국가’, ‘순위’, ‘수익’]\n",
    "\n",
    "df.index\n",
    "\n",
    "df.index = [‘가’, ‘나’, ‘다’, ‘라’, ‘마’]\n",
    "\n",
    "df = pd.DataFrame(data, columns=columns, index=index)\n",
    "\n",
    "\n",
    "\n",
    "```\n",
    "\n",
    "* < data overview >\n",
    "\n",
    "```\n",
    "df.head(n=3)\n",
    "\n",
    "df.tail(n=2)\n",
    "\n",
    "df.info()\n",
    "\n",
    "df.describe()\n",
    "\n",
    "df.size\n",
    "\n",
    "df.shape\n",
    "\n",
    "df.sort_values(by=‘Rank’, ascending=False)\n",
    "\n",
    "df[‘Headquarters’].unique()\n",
    "\n",
    "df[‘Headquarters’].nunique()\n",
    "\n",
    "\n",
    "\n",
    "```\n",
    "\n",
    "* < indexing and selecting data >\n",
    "\n",
    "```\n",
    "df.[‘ID’] == df.ID\n",
    ": selecting a column\n",
    "\n",
    "df[[‘ID’, ‘Score’]]\n",
    ": selecting multiple columns\n",
    "\n",
    "df[0:1]\n",
    ": selecting the row with index number 0\n",
    "\n",
    "df[2:4]\n",
    ": selecting the rows with index number 2~3\n",
    "\n",
    "df.loc[rows, columns]\n",
    ": selecting by labels(names)\n",
    "\n",
    "df.iloc[rows, columns]\n",
    ": selecting by index numbers\n",
    "\n",
    "df[df[‘Name’]==‘Gildong’]\n",
    ": selecting by conditions\n",
    "\n",
    "\n",
    "\n",
    "```\n",
    "\n",
    "* < grouping data >\n",
    "\n",
    "```\n",
    "df.groupby([‘Location’]).mean()\n",
    "\n",
    "df.groupby([‘Location’]).min()\n",
    "\n",
    "df.groupby([‘Location’]).count()\n",
    "\n",
    "df.groupby([‘Location’]).sum()\n",
    "\n",
    "df.groupby([‘Location’]).size()\n",
    "\n",
    "df.groupby([‘Location’, ‘Fruit’]).count()\n",
    "\n",
    "df.groupby([‘Location’, ‘Fruit’]).agg([‘min’, ‘max’, ‘mean’])\n",
    "\n",
    "\n",
    "\n",
    "```\n",
    "\n",
    "* < missing values >\n",
    "\n",
    "```\n",
    "df.isnull()\n",
    "\n",
    "df[‘A’].isnull()\n",
    "\n",
    "df.isnull().sum()\n",
    "\n",
    "df[‘A’].isnull().sum()\n",
    "\n",
    "df.notnull().sum()\n",
    "\n",
    "df.dropna()\n",
    "\n",
    "df.dropna(subset=[‘B’, ‘D’])\n",
    "\n",
    "df.fillna(value=-1)\n",
    "\n",
    "\n",
    "\n",
    "```"
   ]
  },
  {
   "cell_type": "markdown",
   "metadata": {},
   "source": [
    "# 1. loading modules\n",
    "* load pandas using alias pd\n",
    "* load numpy using alias np"
   ]
  },
  {
   "cell_type": "code",
   "execution_count": 4,
   "metadata": {},
   "outputs": [],
   "source": []
  },
  {
   "cell_type": "markdown",
   "metadata": {},
   "source": [
    "# 2. import data, data overview"
   ]
  },
  {
   "cell_type": "code",
   "execution_count": 8,
   "metadata": {},
   "outputs": [],
   "source": [
    "#check the path for each excel file\n",
    "hepatitis = pd.read_excel(\"./data/hepatitis.xlsx\", index_col=0, engine=\"openpyxl\")\n",
    "hepatoma = pd.read_excel(\"./data/hepatoma.xlsx\", index_col=0, engine=\"openpyxl\")\n",
    "#conda install openpyxl xlrd  \n",
    "#!pip install openpyxl xlrd    \n",
    "#!pip3 install openpyxl xlrd   "
   ]
  },
  {
   "cell_type": "markdown",
   "metadata": {},
   "source": [
    "### 1-1. hepatitis\n",
    "* Return the first 15 rows for the DataFrame hepatitis."
   ]
  },
  {
   "cell_type": "code",
   "execution_count": null,
   "metadata": {},
   "outputs": [],
   "source": []
  },
  {
   "cell_type": "markdown",
   "metadata": {},
   "source": [
    "* Return the last 15 rows for the DataFrame hepatitis."
   ]
  },
  {
   "cell_type": "code",
   "execution_count": null,
   "metadata": {},
   "outputs": [],
   "source": []
  },
  {
   "cell_type": "markdown",
   "metadata": {},
   "source": [
    "* Print the summary of the DataFrame hepatitis.    \n",
    "(column level indices, count of non null values, data types)"
   ]
  },
  {
   "cell_type": "code",
   "execution_count": null,
   "metadata": {},
   "outputs": [],
   "source": []
  },
  {
   "cell_type": "markdown",
   "metadata": {},
   "source": [
    "* Print the column level indices of the DataFrame hepatitis.    \n",
    "What can be inferred from them?"
   ]
  },
  {
   "cell_type": "code",
   "execution_count": null,
   "metadata": {},
   "outputs": [],
   "source": []
  },
  {
   "cell_type": "markdown",
   "metadata": {},
   "source": [
    "### 1-2. hepatoma"
   ]
  },
  {
   "cell_type": "markdown",
   "metadata": {},
   "source": [
    "* Return the first 15 rows for the DataFrame hepatoma."
   ]
  },
  {
   "cell_type": "code",
   "execution_count": null,
   "metadata": {},
   "outputs": [],
   "source": []
  },
  {
   "cell_type": "markdown",
   "metadata": {},
   "source": [
    "* Return the last 15 rows for the DataFrame hepatoma."
   ]
  },
  {
   "cell_type": "code",
   "execution_count": null,
   "metadata": {},
   "outputs": [],
   "source": []
  },
  {
   "cell_type": "markdown",
   "metadata": {},
   "source": [
    "* Print the summary of the DataFrame hepatoma.   \n",
    "(column level indices, count of non null values, data types)"
   ]
  },
  {
   "cell_type": "code",
   "execution_count": null,
   "metadata": {
    "scrolled": true
   },
   "outputs": [],
   "source": []
  },
  {
   "cell_type": "markdown",
   "metadata": {},
   "source": [
    "* Print the column level indices of the DataFrame hepatoma.    \n",
    "What can be inferred from them?"
   ]
  },
  {
   "cell_type": "code",
   "execution_count": null,
   "metadata": {},
   "outputs": [],
   "source": []
  },
  {
   "cell_type": "markdown",
   "metadata": {},
   "source": [
    "# 3. number of patients"
   ]
  },
  {
   "cell_type": "markdown",
   "metadata": {},
   "source": [
    "### 3-1. hepatitis"
   ]
  },
  {
   "cell_type": "markdown",
   "metadata": {},
   "source": [
    "* Return ID2 column of the DataFrame hepatitis.    \n",
    "What can be inferred from the values?"
   ]
  },
  {
   "cell_type": "code",
   "execution_count": null,
   "metadata": {},
   "outputs": [],
   "source": []
  },
  {
   "cell_type": "markdown",
   "metadata": {},
   "source": [
    "* Return the unique values for the patients' ID numbers."
   ]
  },
  {
   "cell_type": "code",
   "execution_count": null,
   "metadata": {},
   "outputs": [],
   "source": []
  },
  {
   "cell_type": "markdown",
   "metadata": {},
   "source": [
    "* How many people are diagnosed with hepatitis?"
   ]
  },
  {
   "cell_type": "code",
   "execution_count": null,
   "metadata": {},
   "outputs": [],
   "source": []
  },
  {
   "cell_type": "markdown",
   "metadata": {},
   "source": [
    "### 3-2. hepatoma"
   ]
  },
  {
   "cell_type": "markdown",
   "metadata": {},
   "source": [
    "* Return ID2 column of the DataFrame hepatoma.   \n",
    "What can be inferred from the values?"
   ]
  },
  {
   "cell_type": "code",
   "execution_count": null,
   "metadata": {},
   "outputs": [],
   "source": []
  },
  {
   "cell_type": "markdown",
   "metadata": {},
   "source": [
    "* Return the unique values for the patients' ID numbers."
   ]
  },
  {
   "cell_type": "code",
   "execution_count": null,
   "metadata": {},
   "outputs": [],
   "source": []
  },
  {
   "cell_type": "markdown",
   "metadata": {},
   "source": [
    "* How many people are diagnosed with hepatoma?"
   ]
  },
  {
   "cell_type": "code",
   "execution_count": null,
   "metadata": {},
   "outputs": [],
   "source": []
  },
  {
   "cell_type": "markdown",
   "metadata": {},
   "source": [
    "# 4. missing values"
   ]
  },
  {
   "cell_type": "markdown",
   "metadata": {},
   "source": [
    "### 4-1. hepatitis"
   ]
  },
  {
   "cell_type": "markdown",
   "metadata": {},
   "source": [
    "* Check the missing values in DataFrame hepatitis."
   ]
  },
  {
   "cell_type": "code",
   "execution_count": null,
   "metadata": {},
   "outputs": [],
   "source": []
  },
  {
   "cell_type": "markdown",
   "metadata": {},
   "source": [
    "* Return the number of missing values in each column."
   ]
  },
  {
   "cell_type": "code",
   "execution_count": null,
   "metadata": {},
   "outputs": [],
   "source": []
  },
  {
   "cell_type": "markdown",
   "metadata": {},
   "source": [
    "* Return the number of missing values in each row."
   ]
  },
  {
   "cell_type": "code",
   "execution_count": null,
   "metadata": {},
   "outputs": [],
   "source": []
  },
  {
   "cell_type": "markdown",
   "metadata": {},
   "source": [
    "* Drop all rows with missing values in the column 'Lab' and 'Value'.   \n",
    "Name the new DataFrame as 'hepatitis_dropped'.     \n",
    "Check the number of missing values in the new DataFrame hepatitis_dropped."
   ]
  },
  {
   "cell_type": "code",
   "execution_count": null,
   "metadata": {},
   "outputs": [],
   "source": []
  },
  {
   "cell_type": "markdown",
   "metadata": {},
   "source": [
    "### 4-2. hepatoma"
   ]
  },
  {
   "cell_type": "markdown",
   "metadata": {},
   "source": [
    "* Check the missing values in DataFrame hepatoma."
   ]
  },
  {
   "cell_type": "code",
   "execution_count": null,
   "metadata": {},
   "outputs": [],
   "source": []
  },
  {
   "cell_type": "markdown",
   "metadata": {},
   "source": [
    "* Return the number of **non-null** values in each column."
   ]
  },
  {
   "cell_type": "code",
   "execution_count": null,
   "metadata": {},
   "outputs": [],
   "source": []
  },
  {
   "cell_type": "markdown",
   "metadata": {},
   "source": [
    "* Return the number of missing values in each row."
   ]
  },
  {
   "cell_type": "code",
   "execution_count": null,
   "metadata": {},
   "outputs": [],
   "source": []
  },
  {
   "cell_type": "markdown",
   "metadata": {},
   "source": [
    "* Drop all rows with missing values in the column 'Lab' and 'Value'.     \n",
    "Name the new DataFrame as 'hepatoma_dropped'.     \n",
    "Check the number of missing values in the new DataFrame hepatoma_dropped."
   ]
  },
  {
   "cell_type": "code",
   "execution_count": null,
   "metadata": {},
   "outputs": [],
   "source": []
  },
  {
   "cell_type": "code",
   "execution_count": null,
   "metadata": {},
   "outputs": [],
   "source": []
  },
  {
   "cell_type": "code",
   "execution_count": null,
   "metadata": {},
   "outputs": [],
   "source": []
  },
  {
   "cell_type": "markdown",
   "metadata": {},
   "source": [
    "# 5. Labs"
   ]
  },
  {
   "cell_type": "markdown",
   "metadata": {},
   "source": [
    "### 5-1. hepatitis"
   ]
  },
  {
   "cell_type": "markdown",
   "metadata": {},
   "source": [
    "* What types of lab tests were performed for people with hepatitis?    \n",
    "(Use the newly made DataFrame hepatitis_dropped)"
   ]
  },
  {
   "cell_type": "code",
   "execution_count": null,
   "metadata": {},
   "outputs": [],
   "source": []
  },
  {
   "cell_type": "markdown",
   "metadata": {},
   "source": [
    "* How many types of lab tests were performed?    \n",
    "(Use the newly made DataFrame hepatitis_dropped)"
   ]
  },
  {
   "cell_type": "code",
   "execution_count": null,
   "metadata": {},
   "outputs": [],
   "source": []
  },
  {
   "cell_type": "markdown",
   "metadata": {},
   "source": [
    "### 3-2. hepatoma"
   ]
  },
  {
   "cell_type": "markdown",
   "metadata": {},
   "source": [
    "* What types of lab tests were performed for people with hepatoma?   \n",
    "(Use the newly made DataFrame hepatoma_dropped)"
   ]
  },
  {
   "cell_type": "code",
   "execution_count": null,
   "metadata": {},
   "outputs": [],
   "source": []
  },
  {
   "cell_type": "markdown",
   "metadata": {},
   "source": [
    "* How many types of lab tests were performed?   \n",
    "(Use the newly made DataFrame hepatoma_dropped)"
   ]
  },
  {
   "cell_type": "code",
   "execution_count": null,
   "metadata": {},
   "outputs": [],
   "source": []
  },
  {
   "cell_type": "markdown",
   "metadata": {},
   "source": [
    "# 6. patients + Labs "
   ]
  },
  {
   "cell_type": "markdown",
   "metadata": {},
   "source": [
    "### 6-1. hepatitis"
   ]
  },
  {
   "cell_type": "markdown",
   "metadata": {},
   "source": [
    "* What types of lab tests did patient with ID number '11650' get?      \n",
    "(Use the newly made DataFrame hepatitis_dropped)"
   ]
  },
  {
   "cell_type": "code",
   "execution_count": null,
   "metadata": {},
   "outputs": [],
   "source": []
  },
  {
   "cell_type": "markdown",
   "metadata": {},
   "source": [
    "* Return the minimum, maximum, mean values of the test results for each person.      \n",
    "(Use the newly made DataFrame hepatitis_dropped)"
   ]
  },
  {
   "cell_type": "code",
   "execution_count": null,
   "metadata": {},
   "outputs": [],
   "source": []
  },
  {
   "cell_type": "markdown",
   "metadata": {},
   "source": [
    "### 6-2. hepatoma"
   ]
  },
  {
   "cell_type": "markdown",
   "metadata": {},
   "source": [
    "* What types of lab tests did patient with ID number '11260' get?    \n",
    "(Use the newly made DataFrame hepatoma_dropped)"
   ]
  },
  {
   "cell_type": "code",
   "execution_count": null,
   "metadata": {},
   "outputs": [],
   "source": []
  },
  {
   "cell_type": "markdown",
   "metadata": {},
   "source": [
    "* Return the minimum, maximum, mean values of the test results for each person.     \n",
    "(Use the newly made DataFrame hepatoma_dropped)"
   ]
  },
  {
   "cell_type": "code",
   "execution_count": null,
   "metadata": {},
   "outputs": [],
   "source": []
  }
 ],
 "metadata": {
  "kernelspec": {
   "display_name": "Python 3",
   "language": "python",
   "name": "python3"
  },
  "language_info": {
   "codemirror_mode": {
    "name": "ipython",
    "version": 3
   },
   "file_extension": ".py",
   "mimetype": "text/x-python",
   "name": "python",
   "nbconvert_exporter": "python",
   "pygments_lexer": "ipython3",
   "version": "3.8.6"
  },
  "toc": {
   "base_numbering": 1,
   "nav_menu": {},
   "number_sections": false,
   "sideBar": true,
   "skip_h1_title": false,
   "title_cell": "Table of Contents",
   "title_sidebar": "Contents",
   "toc_cell": false,
   "toc_position": {},
   "toc_section_display": true,
   "toc_window_display": true
  }
 },
 "nbformat": 4,
 "nbformat_minor": 4
}
