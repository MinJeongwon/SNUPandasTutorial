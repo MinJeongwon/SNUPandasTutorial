{
 "cells": [
  {
   "cell_type": "markdown",
   "id": "large-camping",
   "metadata": {},
   "source": [
    "<center><h1> Tutorial2_DataFrame </h1></center>"
   ]
  },
  {
   "cell_type": "markdown",
   "id": "published-deposit",
   "metadata": {},
   "source": [
    "# 1. loading modules"
   ]
  },
  {
   "cell_type": "code",
   "execution_count": null,
   "id": "sporting-topic",
   "metadata": {},
   "outputs": [],
   "source": [
    "import pandas as pd #pd is an alias for pandas\n",
    "import numpy as np #np is an alias for numpy"
   ]
  },
  {
   "cell_type": "markdown",
   "id": "configured-proof",
   "metadata": {},
   "source": [
    "# 2. creating DataFrames\n",
    "\n",
    "you can construct a DataFrame using\n",
    "1. list\n",
    "2. dictionary\n",
    "3. Series\n",
    "4. numpy ndarray\n",
    "5. DataFrame"
   ]
  },
  {
   "cell_type": "markdown",
   "id": "enabling-activation",
   "metadata": {},
   "source": [
    "### 2-1. using list"
   ]
  },
  {
   "cell_type": "code",
   "execution_count": null,
   "id": "chronic-poultry",
   "metadata": {},
   "outputs": [],
   "source": [
    "ddata = [\n",
    "        [1000, 'dog', 4], \n",
    "        [1001, 'cow', 4], \n",
    "        [1002, 'bird', 2], \n",
    "        [1003, 'ant', 6], \n",
    "        [1004, 'spider', 8],\n",
    "        [1005, 'cat', 4]\n",
    "        ]\n",
    "df1 = pd.DataFrame(ddata) #Dataframe(X)\n",
    "print(df1)"
   ]
  },
  {
   "cell_type": "markdown",
   "id": "separate-demonstration",
   "metadata": {},
   "source": [
    "### 2-2. using dictionary"
   ]
  },
  {
   "cell_type": "code",
   "execution_count": null,
   "id": "secure-mustang",
   "metadata": {},
   "outputs": [],
   "source": [
    "ddata2 = {'Number' : [1000, 1001, 1002, 1003, 1004, 1005],\n",
    "          'Species' : ['dog', 'cow', 'bird', 'ant', 'spider', 'cat'],\n",
    "          'Number of legs' : [4, 4, 2, 6, 8, 4]}\n",
    "df2 = pd.DataFrame(ddata2)\n",
    "print(df2)"
   ]
  },
  {
   "cell_type": "code",
   "execution_count": null,
   "id": "nonprofit-society",
   "metadata": {},
   "outputs": [],
   "source": [
    "df1 = pd.DataFrame(ddata, columns=['Number', 'Species', 'Number of legs'])\n",
    "print(df1)"
   ]
  },
  {
   "cell_type": "markdown",
   "id": "promotional-ground",
   "metadata": {},
   "source": [
    "### 2-3. QUIZ\n",
    "\n",
    "* Create the same DataFrame as below using (1) list and (2) dictionary.\n",
    "\n",
    "![image](./images/2_quiz_2_3.png)\n",
    "\n",
    "source : https://blog.bizvibe.com/blog/largest-electronics-companies"
   ]
  },
  {
   "cell_type": "markdown",
   "id": "searching-flash",
   "metadata": {},
   "source": [
    "### Answer (1)"
   ]
  },
  {
   "cell_type": "code",
   "execution_count": null,
   "id": "searching-tattoo",
   "metadata": {
    "scrolled": true
   },
   "outputs": [],
   "source": []
  },
  {
   "cell_type": "markdown",
   "id": "ecological-jefferson",
   "metadata": {},
   "source": [
    "### Answer (2)"
   ]
  },
  {
   "cell_type": "code",
   "execution_count": null,
   "id": "regional-characteristic",
   "metadata": {},
   "outputs": [],
   "source": []
  },
  {
   "cell_type": "markdown",
   "id": "twelve-arcade",
   "metadata": {},
   "source": [
    "# 3. values and indices"
   ]
  },
  {
   "cell_type": "code",
   "execution_count": null,
   "id": "instrumental-uncle",
   "metadata": {},
   "outputs": [],
   "source": [
    "ddata3 = [ \n",
    "         [0, 'Apple', 'U.S.', 1, 260.17], \n",
    "         [1, 'LG', 'S.Korea', 10, 54.39], \n",
    "         [2, 'Samsung', 'S.Korea', 2, 221.6], \n",
    "         [3, 'Sony', 'Japan', 7, 80.92], \n",
    "         [4, 'Dell', 'U.S.', 5, 90.62],\n",
    "         [5, 'Intel', 'U.S.', 9, 71.9]\n",
    "         ]\n",
    "df3 = pd.DataFrame(ddata3, columns=['Num', 'Company', 'Headquarters', 'Rank', 'Revenue(USD billions)']) \n",
    "print(df3) #dataframe from the quiz above"
   ]
  },
  {
   "cell_type": "markdown",
   "id": "ordinary-toronto",
   "metadata": {},
   "source": [
    "### 3-1. values of DataFrame"
   ]
  },
  {
   "cell_type": "code",
   "execution_count": null,
   "id": "unsigned-taxation",
   "metadata": {},
   "outputs": [],
   "source": [
    "df3.values"
   ]
  },
  {
   "cell_type": "markdown",
   "id": "amended-special",
   "metadata": {},
   "source": [
    "### 3-2. column level indices of DataFrame"
   ]
  },
  {
   "cell_type": "code",
   "execution_count": null,
   "id": "meaning-rehabilitation",
   "metadata": {},
   "outputs": [],
   "source": [
    "df3.columns #also called as 'column names'"
   ]
  },
  {
   "cell_type": "markdown",
   "id": "congressional-intermediate",
   "metadata": {},
   "source": [
    "### 3-3. changing column names"
   ]
  },
  {
   "cell_type": "code",
   "execution_count": null,
   "id": "announced-programmer",
   "metadata": {},
   "outputs": [],
   "source": [
    "df3.columns = [\"번호\", \"기업\", \"국가\", \"순위\", \"수익\"]\n",
    "df3"
   ]
  },
  {
   "cell_type": "markdown",
   "id": "opposite-jungle",
   "metadata": {},
   "source": [
    "### 3-4. row level indices of DataFrame"
   ]
  },
  {
   "cell_type": "code",
   "execution_count": null,
   "id": "expensive-population",
   "metadata": {},
   "outputs": [],
   "source": [
    "df3.index"
   ]
  },
  {
   "cell_type": "markdown",
   "id": "tribal-testament",
   "metadata": {},
   "source": [
    "### 3-5. changing row level indices"
   ]
  },
  {
   "cell_type": "code",
   "execution_count": null,
   "id": "european-botswana",
   "metadata": {},
   "outputs": [],
   "source": [
    "df3.index = ['가', '나', '다', '라', '마', '바']\n",
    "df3"
   ]
  },
  {
   "cell_type": "markdown",
   "id": "liked-vinyl",
   "metadata": {},
   "source": [
    "### 3-6. creating a DataFrame including row/column level indices"
   ]
  },
  {
   "cell_type": "code",
   "execution_count": null,
   "id": "honey-board",
   "metadata": {},
   "outputs": [],
   "source": [
    "ddata4 = [ \n",
    "         [0, 'Apple', 'U.S.', 1, 260.17], \n",
    "         [1, 'LG', 'S.Korea', 10, 54.39], \n",
    "         [2, 'Samsung', 'S.Korea', 2, 221.6], \n",
    "         [3, 'Sony', 'Japan', 7, 80.92], \n",
    "         [4, 'Dell', 'U.S.', 5, 90.62],\n",
    "         [5, 'Intel', 'U.S.', 9, 71.9]\n",
    "         ]\n",
    "columns = ['Num', 'Company', 'Headquarters', 'Rank', 'Revenue(USD billions)']\n",
    "index = ['one', 'two', 'three', 'four', 'five', 'six']\n",
    "\n",
    "df4 = pd.DataFrame(ddata4, columns=columns, index=index)\n",
    "df4"
   ]
  },
  {
   "cell_type": "markdown",
   "id": "iraqi-drawing",
   "metadata": {},
   "source": [
    "### 3-5. QUIZ\n",
    "```\n",
    "(1) Return the values of the DataFrame below.\n",
    "(2) Set the column names as 'Num, Animal, and Number of Legs'.\n",
    "(3) Set the row level indices as 'A, B, C, D, E, F'.\n",
    "```"
   ]
  },
  {
   "cell_type": "code",
   "execution_count": null,
   "id": "satisfactory-workplace",
   "metadata": {},
   "outputs": [],
   "source": [
    "ddata = [\n",
    "        [1000, 'dog', 4], \n",
    "        [1001, 'cow', 4], \n",
    "        [1002, 'bird', 2], \n",
    "        [1003, 'ant', 6], \n",
    "        [1004, 'spider', 8],\n",
    "        [1005, 'cat', 4]\n",
    "        ]\n",
    "df1 = pd.DataFrame(ddata) \n",
    "print(df1)"
   ]
  },
  {
   "cell_type": "markdown",
   "id": "induced-hanging",
   "metadata": {},
   "source": [
    "### Answer (1)"
   ]
  },
  {
   "cell_type": "code",
   "execution_count": null,
   "id": "confident-trout",
   "metadata": {},
   "outputs": [],
   "source": []
  },
  {
   "cell_type": "markdown",
   "id": "communist-louisiana",
   "metadata": {},
   "source": [
    "### Answer (2)"
   ]
  },
  {
   "cell_type": "code",
   "execution_count": null,
   "id": "religious-navigator",
   "metadata": {},
   "outputs": [],
   "source": []
  },
  {
   "cell_type": "markdown",
   "id": "convinced-necessity",
   "metadata": {},
   "source": [
    "### Answer (3)"
   ]
  },
  {
   "cell_type": "code",
   "execution_count": null,
   "id": "continuing-anatomy",
   "metadata": {},
   "outputs": [],
   "source": []
  },
  {
   "cell_type": "markdown",
   "id": "driving-arena",
   "metadata": {},
   "source": [
    "# 4. data overview"
   ]
  },
  {
   "cell_type": "code",
   "execution_count": null,
   "id": "careful-swaziland",
   "metadata": {},
   "outputs": [],
   "source": [
    "ddata4 = [ \n",
    "         [0, 'Apple', 'U.S.', 1, 260.17], \n",
    "         [1, 'LG', 'S.Korea', 10, 54.39], \n",
    "         [2, 'Samsung', 'S.Korea', 2, 221.6], \n",
    "         [3, 'Sony', 'Japan', 7, 80.92], \n",
    "         [4, 'Dell', 'U.S.', 5, 90.62],\n",
    "         [5, 'Intel', 'U.S.', 9, 71.9]\n",
    "         ]\n",
    "columns = ['Num', 'Company', 'Headquarters', 'Rank', 'Revenue(USD billions)']\n",
    "index = ['one', 'two', 'three', 'four', 'five', 'six']\n",
    "\n",
    "df4 = pd.DataFrame(ddata4, columns=columns, index=index)\n",
    "df4 #dataframe above"
   ]
  },
  {
   "cell_type": "markdown",
   "id": "legislative-poultry",
   "metadata": {},
   "source": [
    "### 4-1. returning the first n rows(default 5)"
   ]
  },
  {
   "cell_type": "code",
   "execution_count": null,
   "id": "alone-marketplace",
   "metadata": {},
   "outputs": [],
   "source": [
    "df4.head(n=3)"
   ]
  },
  {
   "cell_type": "markdown",
   "id": "german-maple",
   "metadata": {},
   "source": [
    "### 4-2. returning the last n rows(default 5)"
   ]
  },
  {
   "cell_type": "code",
   "execution_count": null,
   "id": "induced-activity",
   "metadata": {},
   "outputs": [],
   "source": [
    "df4.tail(n=2)"
   ]
  },
  {
   "cell_type": "markdown",
   "id": "curious-mattress",
   "metadata": {},
   "source": [
    "### 4-3. summary"
   ]
  },
  {
   "cell_type": "code",
   "execution_count": null,
   "id": "threatened-collar",
   "metadata": {},
   "outputs": [],
   "source": [
    "df4.info()"
   ]
  },
  {
   "cell_type": "markdown",
   "id": "fantastic-forward",
   "metadata": {},
   "source": [
    "### 4-4. statistics"
   ]
  },
  {
   "cell_type": "code",
   "execution_count": null,
   "id": "cheap-likelihood",
   "metadata": {},
   "outputs": [],
   "source": [
    "df4.describe()"
   ]
  },
  {
   "cell_type": "markdown",
   "id": "neural-penguin",
   "metadata": {},
   "source": [
    "### 4-5. size and shape\n",
    "- size : number of elements\n",
    "- shape : number of rows and columns"
   ]
  },
  {
   "cell_type": "code",
   "execution_count": null,
   "id": "broadband-acrylic",
   "metadata": {},
   "outputs": [],
   "source": [
    "df4.size"
   ]
  },
  {
   "cell_type": "code",
   "execution_count": null,
   "id": "aquatic-strategy",
   "metadata": {},
   "outputs": [],
   "source": [
    "df4.shape"
   ]
  },
  {
   "cell_type": "markdown",
   "id": "smaller-prototype",
   "metadata": {},
   "source": [
    "### 4-6. sorting values"
   ]
  },
  {
   "cell_type": "code",
   "execution_count": null,
   "id": "formal-chapel",
   "metadata": {},
   "outputs": [],
   "source": [
    "df4 #DataFrame above"
   ]
  },
  {
   "cell_type": "code",
   "execution_count": null,
   "id": "reported-strengthening",
   "metadata": {},
   "outputs": [],
   "source": [
    "df4.sort_values(by='Rank')"
   ]
  },
  {
   "cell_type": "code",
   "execution_count": null,
   "id": "retired-balloon",
   "metadata": {},
   "outputs": [],
   "source": [
    "df4.sort_values(by='Company')"
   ]
  },
  {
   "cell_type": "code",
   "execution_count": null,
   "id": "general-columbia",
   "metadata": {},
   "outputs": [],
   "source": [
    "df4.sort_values(by=df4.columns[4]) #what does df4.columns[4] mean?"
   ]
  },
  {
   "cell_type": "code",
   "execution_count": null,
   "id": "initial-sheriff",
   "metadata": {},
   "outputs": [],
   "source": [
    "df4.sort_values(by=df4.columns[4], ascending=False)"
   ]
  },
  {
   "cell_type": "markdown",
   "id": "racial-madrid",
   "metadata": {},
   "source": [
    "### 4-7. unique values"
   ]
  },
  {
   "cell_type": "code",
   "execution_count": null,
   "id": "going-circulation",
   "metadata": {},
   "outputs": [],
   "source": [
    "df4['Headquarters'].unique()"
   ]
  },
  {
   "cell_type": "code",
   "execution_count": null,
   "id": "boring-registrar",
   "metadata": {},
   "outputs": [],
   "source": [
    "df4['Headquarters'].nunique()"
   ]
  },
  {
   "cell_type": "markdown",
   "id": "polyphonic-shirt",
   "metadata": {},
   "source": [
    "### 4-8. QUIZ\n",
    "```\n",
    "(1) Return the last two rows of the DataFrame df5.    \n",
    "(2) What is the mean value of the students' scores?    \n",
    "(3) Who got the best score? Sort the values in column 'Score' in a descending order.    \n",
    "```"
   ]
  },
  {
   "cell_type": "code",
   "execution_count": null,
   "id": "civilian-constitution",
   "metadata": {},
   "outputs": [],
   "source": [
    "ddata5 = {'ID' : ['202101', '202102', '202103', '202104', '202105', '202106'],\n",
    "        'Name' : [ 'Gildong', 'Mongryong', 'Chulsoo', 'Haneul', 'Minsoo', 'Seoyeon'],\n",
    "        'Score' : [90.72, 78.09, 98.43, 64.19, 81.30, 99.14]\n",
    "       }\n",
    "df5 = pd.DataFrame(ddata5, index=['가', '나', '다', '라', '마', '바'])\n",
    "df5"
   ]
  },
  {
   "cell_type": "markdown",
   "id": "indian-carry",
   "metadata": {},
   "source": [
    "### Answer (1)"
   ]
  },
  {
   "cell_type": "code",
   "execution_count": null,
   "id": "combined-lighting",
   "metadata": {},
   "outputs": [],
   "source": []
  },
  {
   "cell_type": "markdown",
   "id": "greek-recommendation",
   "metadata": {},
   "source": [
    "### Answer (2)"
   ]
  },
  {
   "cell_type": "code",
   "execution_count": null,
   "id": "subject-junior",
   "metadata": {},
   "outputs": [],
   "source": []
  },
  {
   "cell_type": "markdown",
   "id": "equal-basin",
   "metadata": {},
   "source": [
    "### Answer (3)"
   ]
  },
  {
   "cell_type": "code",
   "execution_count": null,
   "id": "regulation-display",
   "metadata": {},
   "outputs": [],
   "source": []
  },
  {
   "cell_type": "markdown",
   "id": "southwest-restaurant",
   "metadata": {},
   "source": [
    "# 5. indexing and selecting data"
   ]
  },
  {
   "cell_type": "code",
   "execution_count": null,
   "id": "greek-coverage",
   "metadata": {},
   "outputs": [],
   "source": [
    "ddata6 = {'ID' : ['202101', '202102', '202103', '202104', '202105', '202106'],\n",
    "          'Name' : [ 'Gildong', 'Mongryong', 'Chulsoo', 'Haneul', 'Minsoo', 'Seoyeon'],\n",
    "          'Score' : [90.72, 78.09, 98.43, 64.19, 81.30, 99.14]\n",
    "          }\n",
    "\n",
    "df6 = pd.DataFrame(ddata6, index=['가', '나', '다', '라', '마', '바'])\n",
    "df6"
   ]
  },
  {
   "cell_type": "markdown",
   "id": "sunrise-sympathy",
   "metadata": {},
   "source": [
    "### 5-1. selecting columns"
   ]
  },
  {
   "cell_type": "code",
   "execution_count": null,
   "id": "sustainable-cookbook",
   "metadata": {},
   "outputs": [],
   "source": [
    "df6['ID']"
   ]
  },
  {
   "cell_type": "code",
   "execution_count": null,
   "id": "revised-maldives",
   "metadata": {},
   "outputs": [],
   "source": [
    "df6.ID"
   ]
  },
  {
   "cell_type": "code",
   "execution_count": null,
   "id": "checked-advice",
   "metadata": {},
   "outputs": [],
   "source": [
    "type(df6['ID'])"
   ]
  },
  {
   "cell_type": "code",
   "execution_count": null,
   "id": "sound-seafood",
   "metadata": {},
   "outputs": [],
   "source": [
    "type(df6.ID)"
   ]
  },
  {
   "cell_type": "code",
   "execution_count": null,
   "id": "fatty-overall",
   "metadata": {},
   "outputs": [],
   "source": [
    "df6['ID', 'Score']"
   ]
  },
  {
   "cell_type": "code",
   "execution_count": null,
   "id": "trying-reputation",
   "metadata": {},
   "outputs": [],
   "source": [
    "df6[['ID', 'Score']]"
   ]
  },
  {
   "cell_type": "code",
   "execution_count": null,
   "id": "final-safety",
   "metadata": {},
   "outputs": [],
   "source": [
    "type(df6[['ID', 'Score']])"
   ]
  },
  {
   "cell_type": "markdown",
   "id": "binary-remark",
   "metadata": {},
   "source": [
    "### 5-2. selecting rows"
   ]
  },
  {
   "cell_type": "code",
   "execution_count": null,
   "id": "soviet-timeline",
   "metadata": {},
   "outputs": [],
   "source": [
    "df6['가'] #selecting columns, there is no column level index named '가'"
   ]
  },
  {
   "cell_type": "code",
   "execution_count": null,
   "id": "banner-assets",
   "metadata": {},
   "outputs": [],
   "source": [
    "df6[0:1] #final index is excluded from the slice"
   ]
  },
  {
   "cell_type": "code",
   "execution_count": null,
   "id": "forbidden-passion",
   "metadata": {},
   "outputs": [],
   "source": [
    "df6[3:4]"
   ]
  },
  {
   "cell_type": "code",
   "execution_count": null,
   "id": "afraid-third",
   "metadata": {},
   "outputs": [],
   "source": [
    "type(df6[3:4])"
   ]
  },
  {
   "cell_type": "code",
   "execution_count": null,
   "id": "eleven-healing",
   "metadata": {},
   "outputs": [],
   "source": [
    "df6[2:4]"
   ]
  },
  {
   "cell_type": "markdown",
   "id": "second-farmer",
   "metadata": {},
   "source": [
    "### 5-3. selecting by labels : df.loc[rows, columns]"
   ]
  },
  {
   "cell_type": "code",
   "execution_count": null,
   "id": "physical-guest",
   "metadata": {},
   "outputs": [],
   "source": [
    "df6"
   ]
  },
  {
   "cell_type": "code",
   "execution_count": null,
   "id": "thermal-landing",
   "metadata": {},
   "outputs": [],
   "source": [
    "df6.loc['가'] #returns the values in row level, same as df6.loc['가', :] "
   ]
  },
  {
   "cell_type": "code",
   "execution_count": null,
   "id": "bronze-orchestra",
   "metadata": {},
   "outputs": [],
   "source": [
    "type(df6.loc['가'])"
   ]
  },
  {
   "cell_type": "code",
   "execution_count": null,
   "id": "indirect-clearance",
   "metadata": {},
   "outputs": [],
   "source": [
    "df6.loc[['가']]"
   ]
  },
  {
   "cell_type": "code",
   "execution_count": null,
   "id": "voluntary-certification",
   "metadata": {},
   "outputs": [],
   "source": [
    "type(df6.loc[['가']])"
   ]
  },
  {
   "cell_type": "code",
   "execution_count": null,
   "id": "careful-sauce",
   "metadata": {},
   "outputs": [],
   "source": [
    "df6.loc['가':'다', ['ID', 'Score']] \n",
    "#final value is included because '다' is not an index number but a label(names)"
   ]
  },
  {
   "cell_type": "code",
   "execution_count": null,
   "id": "authentic-cocktail",
   "metadata": {},
   "outputs": [],
   "source": [
    "df6.loc[:,'Name':'Score'] "
   ]
  },
  {
   "cell_type": "code",
   "execution_count": null,
   "id": "grand-influence",
   "metadata": {},
   "outputs": [],
   "source": [
    "df6.loc[3:5,-1]"
   ]
  },
  {
   "cell_type": "markdown",
   "id": "qualified-elevation",
   "metadata": {},
   "source": [
    "### 5-4. selecting by indices(position) : df.iloc[rows, columns]"
   ]
  },
  {
   "cell_type": "code",
   "execution_count": null,
   "id": "persistent-damages",
   "metadata": {},
   "outputs": [],
   "source": [
    "df6"
   ]
  },
  {
   "cell_type": "code",
   "execution_count": null,
   "id": "reverse-nature",
   "metadata": {
    "scrolled": true
   },
   "outputs": [],
   "source": [
    "df6.iloc[0] #returns the values in row level"
   ]
  },
  {
   "cell_type": "code",
   "execution_count": null,
   "id": "careful-warning",
   "metadata": {},
   "outputs": [],
   "source": [
    "type(df6.iloc[0])"
   ]
  },
  {
   "cell_type": "code",
   "execution_count": null,
   "id": "bacterial-rendering",
   "metadata": {},
   "outputs": [],
   "source": [
    "df6.iloc[[0]]"
   ]
  },
  {
   "cell_type": "code",
   "execution_count": null,
   "id": "eastern-inquiry",
   "metadata": {},
   "outputs": [],
   "source": [
    "type(df6.iloc[[0]])"
   ]
  },
  {
   "cell_type": "code",
   "execution_count": null,
   "id": "mobile-audio",
   "metadata": {},
   "outputs": [],
   "source": [
    "df6.iloc[0:3,1:3] #final indices are excluded from the slice"
   ]
  },
  {
   "cell_type": "code",
   "execution_count": null,
   "id": "looking-hardware",
   "metadata": {},
   "outputs": [],
   "source": [
    "df6.iloc[-1:,:]"
   ]
  },
  {
   "cell_type": "markdown",
   "id": "delayed-abortion",
   "metadata": {},
   "source": [
    "### 5-5. selecting by conditions"
   ]
  },
  {
   "cell_type": "code",
   "execution_count": null,
   "id": "expanded-hello",
   "metadata": {},
   "outputs": [],
   "source": [
    "df6 "
   ]
  },
  {
   "cell_type": "code",
   "execution_count": null,
   "id": "instructional-nightlife",
   "metadata": {},
   "outputs": [],
   "source": [
    "df6[df6['Name']=='Gildong'] #print df6['ID']=='202103' first"
   ]
  },
  {
   "cell_type": "code",
   "execution_count": null,
   "id": "thermal-district",
   "metadata": {},
   "outputs": [],
   "source": [
    "df6[df6['ID']==202103] #values in column ID are objects, not int"
   ]
  },
  {
   "cell_type": "code",
   "execution_count": null,
   "id": "portable-botswana",
   "metadata": {},
   "outputs": [],
   "source": [
    "df6.info()"
   ]
  },
  {
   "cell_type": "code",
   "execution_count": null,
   "id": "several-collapse",
   "metadata": {},
   "outputs": [],
   "source": [
    "df6[df6['ID']=='202103']"
   ]
  },
  {
   "cell_type": "code",
   "execution_count": null,
   "id": "tracked-bankruptcy",
   "metadata": {
    "scrolled": true
   },
   "outputs": [],
   "source": [
    "df6[df6['Score']>=80]"
   ]
  },
  {
   "cell_type": "code",
   "execution_count": null,
   "id": "different-heaven",
   "metadata": {},
   "outputs": [],
   "source": [
    "df6[(df6['Name']!='Gildong') & (df6['ID']!='202104')]"
   ]
  },
  {
   "cell_type": "markdown",
   "id": "objective-timeline",
   "metadata": {},
   "source": [
    "### 5-6. QUIZ\n",
    "```\n",
    "(1) Return the 3rd row of the DataFrame df7.\n",
    "(2) Select the ID and Score of Mongryong.\n",
    "(3) Return the ID values of the students whose scores are under 85.\n",
    "(4) Select the last column of the DataFrame df7.\n",
    "```"
   ]
  },
  {
   "cell_type": "code",
   "execution_count": null,
   "id": "industrial-drain",
   "metadata": {},
   "outputs": [],
   "source": [
    "ddata7 = {'ID' : [202101, 202102, 202103, 202104, 202105, 202106],\n",
    "          'Name' : [ 'Gildong', 'Mongryong', 'Chulsoo', 'Haneul', 'Minsoo', 'Seoyeon'],\n",
    "          'Score' : [90.72, 78.09, 98.43, 64.19, 81.30, 99.14]\n",
    "         }\n",
    "df7 = pd.DataFrame(ddata7, index=['가', '나', '다', '라', '마', '바'])\n",
    "df7"
   ]
  },
  {
   "cell_type": "markdown",
   "id": "external-surrey",
   "metadata": {},
   "source": [
    "### Answer (1)"
   ]
  },
  {
   "cell_type": "code",
   "execution_count": null,
   "id": "literary-jacksonville",
   "metadata": {},
   "outputs": [],
   "source": []
  },
  {
   "cell_type": "markdown",
   "id": "wicked-sperm",
   "metadata": {},
   "source": [
    "### Answer (2)"
   ]
  },
  {
   "cell_type": "code",
   "execution_count": null,
   "id": "bored-classics",
   "metadata": {},
   "outputs": [],
   "source": []
  },
  {
   "cell_type": "markdown",
   "id": "married-replacement",
   "metadata": {},
   "source": [
    "### Answer (3)"
   ]
  },
  {
   "cell_type": "code",
   "execution_count": null,
   "id": "first-creature",
   "metadata": {},
   "outputs": [],
   "source": []
  },
  {
   "cell_type": "markdown",
   "id": "surprised-medium",
   "metadata": {},
   "source": [
    "### Answer (4)"
   ]
  },
  {
   "cell_type": "code",
   "execution_count": null,
   "id": "marked-honor",
   "metadata": {},
   "outputs": [],
   "source": []
  },
  {
   "cell_type": "markdown",
   "id": "wireless-toddler",
   "metadata": {},
   "source": [
    "# 6. grouping data"
   ]
  },
  {
   "cell_type": "code",
   "execution_count": null,
   "id": "engaging-stomach",
   "metadata": {},
   "outputs": [],
   "source": [
    "ddata8 = {'Location': ['Pusan', 'Pusan', 'Pusan', 'Pusan', 'Seoul', 'Seoul', 'Seoul'],\n",
    "          'Fruit': ['apple', 'orange', 'banana', 'banana', 'apple', 'apple', 'banana'],\n",
    "          'Price': [1000, 2000, 2500, 3000, 1500, 2000, 4000],\n",
    "          'Quantity': [1, 2, 3, 4, 5, 6, 7]\n",
    "          }\n",
    "df8 = pd.DataFrame(ddata8)\n",
    "df8"
   ]
  },
  {
   "cell_type": "markdown",
   "id": "analyzed-chest",
   "metadata": {},
   "source": [
    "### 6-1. operations"
   ]
  },
  {
   "cell_type": "code",
   "execution_count": null,
   "id": "intermediate-smile",
   "metadata": {},
   "outputs": [],
   "source": [
    "df8.groupby(['Location']).mean()"
   ]
  },
  {
   "cell_type": "code",
   "execution_count": null,
   "id": "prepared-agency",
   "metadata": {},
   "outputs": [],
   "source": [
    "df8.groupby(['Fruit']).min()"
   ]
  },
  {
   "cell_type": "code",
   "execution_count": null,
   "id": "decent-reform",
   "metadata": {},
   "outputs": [],
   "source": [
    "df8.groupby(['Location']).count()"
   ]
  },
  {
   "cell_type": "code",
   "execution_count": null,
   "id": "curious-quarterly",
   "metadata": {},
   "outputs": [],
   "source": [
    "df8.groupby(['Location']).sum()"
   ]
  },
  {
   "cell_type": "code",
   "execution_count": null,
   "id": "assigned-affect",
   "metadata": {},
   "outputs": [],
   "source": [
    "df8.groupby(['Location'], as_index=False).sum()"
   ]
  },
  {
   "cell_type": "code",
   "execution_count": null,
   "id": "moral-pilot",
   "metadata": {},
   "outputs": [],
   "source": [
    "df8.groupby(['Location'], as_index=False).size()"
   ]
  },
  {
   "cell_type": "markdown",
   "id": "atomic-alabama",
   "metadata": {},
   "source": [
    "### 6-2. grouping multiple columns"
   ]
  },
  {
   "cell_type": "code",
   "execution_count": null,
   "id": "roman-newsletter",
   "metadata": {},
   "outputs": [],
   "source": [
    "df8.groupby(['Location', 'Fruit']).count()"
   ]
  },
  {
   "cell_type": "code",
   "execution_count": null,
   "id": "dental-coordination",
   "metadata": {
    "scrolled": true
   },
   "outputs": [],
   "source": [
    "df8.groupby(['Location', 'Fruit']).agg(['min', 'max', 'mean'])"
   ]
  },
  {
   "cell_type": "code",
   "execution_count": null,
   "id": "bigger-genre",
   "metadata": {},
   "outputs": [],
   "source": [
    "df8.groupby(['Location', 'Fruit']).agg(['min', 'max', 'mean'])['Price']"
   ]
  },
  {
   "cell_type": "markdown",
   "id": "european-metro",
   "metadata": {},
   "source": [
    "### 6-3. QUIZ\n",
    "```\n",
    "(1) How many juniors are there?\n",
    "(2) What is the lowest GPA in Biology major?\n",
    "(3) Group the DataFrame df9 below by major and grade, and figure out the mean value of juniors' GPA whose majors are Computer Science.\n",
    "```"
   ]
  },
  {
   "cell_type": "code",
   "execution_count": null,
   "id": "bizarre-rugby",
   "metadata": {},
   "outputs": [],
   "source": [
    "ddata9 = {\"Major\" : [\"Computer Science\", \"Biology\", \"Biology\", \"Computer Science\", \"Computer Science\", \"Biology\", \"Computer Science\", \"Biology\"],\n",
    "          \"Grade\" : [\"freshman\", \"senior\", \"freshman\", \"junior\", \"junior\", \"senior\", \"junior\", \"junior\"],\n",
    "          \"Name\" : [\"Jason\", \"Mark\", \"Michelle\", \"Sarah\", \"Peter\", \"Natalie\", \"Adam\", \"Veronica\"],\n",
    "          \"GPA\" : [4.1, 3.5, 4.3, 3.6, 2.9, 4.4, 4.3, 3.1]}\n",
    "df9 = pd.DataFrame(ddata9)\n",
    "df9"
   ]
  },
  {
   "cell_type": "markdown",
   "id": "warming-acceptance",
   "metadata": {},
   "source": [
    "### Answer (1)"
   ]
  },
  {
   "cell_type": "code",
   "execution_count": null,
   "id": "speaking-elite",
   "metadata": {},
   "outputs": [],
   "source": []
  },
  {
   "cell_type": "markdown",
   "id": "meaningful-external",
   "metadata": {},
   "source": [
    "### Answer (2)"
   ]
  },
  {
   "cell_type": "code",
   "execution_count": null,
   "id": "strange-delicious",
   "metadata": {},
   "outputs": [],
   "source": []
  },
  {
   "cell_type": "markdown",
   "id": "together-mileage",
   "metadata": {},
   "source": [
    "### Answer (3)"
   ]
  },
  {
   "cell_type": "code",
   "execution_count": null,
   "id": "distinct-medline",
   "metadata": {},
   "outputs": [],
   "source": []
  },
  {
   "cell_type": "markdown",
   "id": "checked-springfield",
   "metadata": {},
   "source": [
    "# 7. missing values"
   ]
  },
  {
   "cell_type": "code",
   "execution_count": null,
   "id": "scheduled-burner",
   "metadata": {},
   "outputs": [],
   "source": [
    "df10 = pd.DataFrame([[np.nan, 2, np.nan, 0],\n",
    "                   [3, 4, 5, 1],\n",
    "                   [np.nan, np.nan, np.nan, 5],\n",
    "                   [0, 3, 2, 4]],\n",
    "                   columns=list('ABCD'))\n",
    "df10"
   ]
  },
  {
   "cell_type": "markdown",
   "id": "formed-architecture",
   "metadata": {},
   "source": [
    "### 7-1. checking the missing data"
   ]
  },
  {
   "cell_type": "code",
   "execution_count": null,
   "id": "classified-benefit",
   "metadata": {},
   "outputs": [],
   "source": [
    "df10.isnull()"
   ]
  },
  {
   "cell_type": "code",
   "execution_count": null,
   "id": "latter-component",
   "metadata": {},
   "outputs": [],
   "source": [
    "df10['A'].isnull()"
   ]
  },
  {
   "cell_type": "code",
   "execution_count": null,
   "id": "referenced-television",
   "metadata": {},
   "outputs": [],
   "source": [
    "df10['B'].isnull()"
   ]
  },
  {
   "cell_type": "markdown",
   "id": "human-bloom",
   "metadata": {},
   "source": [
    "### 7-2. number of the missing data"
   ]
  },
  {
   "cell_type": "code",
   "execution_count": null,
   "id": "colored-highlight",
   "metadata": {},
   "outputs": [],
   "source": [
    "df10.isnull().sum()"
   ]
  },
  {
   "cell_type": "code",
   "execution_count": null,
   "id": "accurate-storage",
   "metadata": {},
   "outputs": [],
   "source": [
    "df10['C'].isnull().sum()"
   ]
  },
  {
   "cell_type": "code",
   "execution_count": null,
   "id": "piano-virtue",
   "metadata": {},
   "outputs": [],
   "source": [
    "df10.notnull().sum()"
   ]
  },
  {
   "cell_type": "markdown",
   "id": "wrong-impression",
   "metadata": {},
   "source": [
    "### 7-3. dropping missing values"
   ]
  },
  {
   "cell_type": "code",
   "execution_count": null,
   "id": "monthly-afternoon",
   "metadata": {},
   "outputs": [],
   "source": [
    "df10.dropna() "
   ]
  },
  {
   "cell_type": "code",
   "execution_count": null,
   "id": "arabic-nancy",
   "metadata": {},
   "outputs": [],
   "source": [
    "df10.dropna(subset=['B', 'D']) "
   ]
  },
  {
   "cell_type": "markdown",
   "id": "adjacent-palestine",
   "metadata": {},
   "source": [
    "### 7-4. replace the missing value with some other values"
   ]
  },
  {
   "cell_type": "code",
   "execution_count": null,
   "id": "verified-platinum",
   "metadata": {},
   "outputs": [],
   "source": [
    "df10.fillna(value=-1)"
   ]
  },
  {
   "cell_type": "markdown",
   "id": "excess-harvest",
   "metadata": {},
   "source": [
    "### 7-5. QUIZ\n",
    "```\n",
    "(1) How many non-null values are there for the First Score?\n",
    "(2) Replace all the missing values with 0, and compute the mean grade for the fourth score.\n",
    "```"
   ]
  },
  {
   "cell_type": "code",
   "execution_count": null,
   "id": "metric-blame",
   "metadata": {},
   "outputs": [],
   "source": [
    "df11 = pd.DataFrame([[100, np.nan, 70, 90],\n",
    "                   [np.nan, 60, np.nan, 90],\n",
    "                   [50, 50, np.nan, np.nan],\n",
    "                   [np.nan, 70, np.nan, 100]],\n",
    "                   columns=['First Score', 'Second Score', 'Third Score', 'Fourth Score'])\n",
    "df11"
   ]
  },
  {
   "cell_type": "markdown",
   "id": "material-clearing",
   "metadata": {},
   "source": [
    "### Answer (1)"
   ]
  },
  {
   "cell_type": "code",
   "execution_count": null,
   "id": "statewide-second",
   "metadata": {},
   "outputs": [],
   "source": []
  },
  {
   "cell_type": "markdown",
   "id": "coordinated-russell",
   "metadata": {},
   "source": [
    "### Answer (2)"
   ]
  },
  {
   "cell_type": "code",
   "execution_count": null,
   "id": "relevant-campus",
   "metadata": {},
   "outputs": [],
   "source": []
  }
 ],
 "metadata": {
  "kernelspec": {
   "display_name": "Python 3",
   "language": "python",
   "name": "python3"
  },
  "language_info": {
   "codemirror_mode": {
    "name": "ipython",
    "version": 3
   },
   "file_extension": ".py",
   "mimetype": "text/x-python",
   "name": "python",
   "nbconvert_exporter": "python",
   "pygments_lexer": "ipython3",
   "version": "3.8.6"
  },
  "toc": {
   "base_numbering": 1,
   "nav_menu": {},
   "number_sections": false,
   "sideBar": true,
   "skip_h1_title": false,
   "title_cell": "Table of Contents",
   "title_sidebar": "Contents",
   "toc_cell": false,
   "toc_position": {
    "height": "calc(100% - 180px)",
    "left": "10px",
    "top": "150px",
    "width": "395.188px"
   },
   "toc_section_display": true,
   "toc_window_display": true
  }
 },
 "nbformat": 4,
 "nbformat_minor": 5
}
