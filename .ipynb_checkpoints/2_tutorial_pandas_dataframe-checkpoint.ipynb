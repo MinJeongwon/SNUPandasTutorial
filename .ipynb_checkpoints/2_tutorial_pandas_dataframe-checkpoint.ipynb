{
 "cells": [
  {
   "cell_type": "markdown",
   "id": "published-deposit",
   "metadata": {},
   "source": [
    "# 1. loading modules"
   ]
  },
  {
   "cell_type": "code",
   "execution_count": 2,
   "id": "sporting-topic",
   "metadata": {},
   "outputs": [],
   "source": [
    "import pandas as pd #pd is an alias for pandas\n",
    "import numpy as np #np is an alias for numpy\n",
    "import matplotlib.pyplot as plt #plt is an alias for pyplot\n",
    "\n",
    "#alias : The community agreed alias for pandas is pd, so loading pandas as pd is assumed standard practice for all of the pandas documentation."
   ]
  },
  {
   "cell_type": "markdown",
   "id": "configured-proof",
   "metadata": {},
   "source": [
    "# 2. creating DataFrames\n",
    "\n",
    "you can construct a DataFrame using\n",
    "1. list\n",
    "2. dictionary\n",
    "3. series\n",
    "4. numpy ndarray\n",
    "5. DataFrame\n",
    "\n",
    "source : https://wikidocs.net/32829"
   ]
  },
  {
   "cell_type": "markdown",
   "id": "enabling-activation",
   "metadata": {},
   "source": [
    "### 2-1. using list"
   ]
  },
  {
   "cell_type": "code",
   "execution_count": 3,
   "id": "chronic-poultry",
   "metadata": {},
   "outputs": [
    {
     "name": "stdout",
     "output_type": "stream",
     "text": [
      "      0       1  2\n",
      "0  1000     dog  4\n",
      "1  1001     cow  4\n",
      "2  1002    bird  2\n",
      "3  1003     ant  6\n",
      "4  1004  spider  8\n",
      "5  1005     cat  4\n"
     ]
    }
   ],
   "source": [
    "ddata = [\n",
    "        [1000, 'dog', 4], \n",
    "        [1001, 'cow', 4], \n",
    "        [1002, 'bird', 2], \n",
    "        [1003, 'ant', 6], \n",
    "        [1004, 'spider', 8],\n",
    "        [1005, 'cat', 4]\n",
    "        ]\n",
    "df1 = pd.DataFrame(ddata)\n",
    "print(df1)"
   ]
  },
  {
   "cell_type": "markdown",
   "id": "separate-demonstration",
   "metadata": {},
   "source": [
    "### 2-2. using dictionary"
   ]
  },
  {
   "cell_type": "code",
   "execution_count": 4,
   "id": "secure-mustang",
   "metadata": {},
   "outputs": [
    {
     "name": "stdout",
     "output_type": "stream",
     "text": [
      "   Number Species  Number of legs\n",
      "0    1000     dog               4\n",
      "1    1001     cow               4\n",
      "2    1002    bird               2\n",
      "3    1003     ant               6\n",
      "4    1004  spider               8\n",
      "5    1005     cat               4\n"
     ]
    }
   ],
   "source": [
    "ddata2 = {'Number' : [1000, 1001, 1002, 1003, 1004, 1005],\n",
    "          'Species' : ['dog', 'cow', 'bird', 'ant', 'spider', 'cat'],\n",
    "          'Number of legs' : [4, 4, 2, 6, 8, 4]}\n",
    "df2 = pd.DataFrame(ddata2)\n",
    "print(df2)"
   ]
  },
  {
   "cell_type": "code",
   "execution_count": null,
   "id": "nonprofit-society",
   "metadata": {},
   "outputs": [],
   "source": [
    "df1 = pd.DataFrame(ddata, columns=['Number', 'Species', 'Number of legs'])\n",
    "print(df1)"
   ]
  },
  {
   "cell_type": "code",
   "execution_count": null,
   "id": "recorded-cooperative",
   "metadata": {},
   "outputs": [],
   "source": []
  },
  {
   "cell_type": "code",
   "execution_count": null,
   "id": "regional-characteristic",
   "metadata": {},
   "outputs": [],
   "source": []
  },
  {
   "cell_type": "code",
   "execution_count": null,
   "id": "ceramic-finnish",
   "metadata": {},
   "outputs": [],
   "source": []
  },
  {
   "cell_type": "code",
   "execution_count": null,
   "id": "instrumental-uncle",
   "metadata": {},
   "outputs": [],
   "source": []
  },
  {
   "cell_type": "code",
   "execution_count": null,
   "id": "pharmaceutical-worship",
   "metadata": {},
   "outputs": [],
   "source": []
  },
  {
   "cell_type": "code",
   "execution_count": null,
   "id": "meaning-rehabilitation",
   "metadata": {},
   "outputs": [],
   "source": []
  },
  {
   "cell_type": "code",
   "execution_count": null,
   "id": "contemporary-dollar",
   "metadata": {},
   "outputs": [],
   "source": []
  },
  {
   "cell_type": "code",
   "execution_count": null,
   "id": "expensive-population",
   "metadata": {},
   "outputs": [],
   "source": []
  },
  {
   "cell_type": "code",
   "execution_count": null,
   "id": "nuclear-bangkok",
   "metadata": {},
   "outputs": [],
   "source": []
  },
  {
   "cell_type": "code",
   "execution_count": null,
   "id": "honey-board",
   "metadata": {},
   "outputs": [],
   "source": []
  },
  {
   "cell_type": "code",
   "execution_count": null,
   "id": "electronic-hormone",
   "metadata": {},
   "outputs": [],
   "source": []
  },
  {
   "cell_type": "code",
   "execution_count": null,
   "id": "alone-marketplace",
   "metadata": {},
   "outputs": [],
   "source": []
  },
  {
   "cell_type": "code",
   "execution_count": null,
   "id": "tired-approval",
   "metadata": {},
   "outputs": [],
   "source": []
  },
  {
   "cell_type": "code",
   "execution_count": null,
   "id": "induced-activity",
   "metadata": {},
   "outputs": [],
   "source": []
  }
 ],
 "metadata": {
  "kernelspec": {
   "display_name": "Python 3",
   "language": "python",
   "name": "python3"
  },
  "language_info": {
   "codemirror_mode": {
    "name": "ipython",
    "version": 3
   },
   "file_extension": ".py",
   "mimetype": "text/x-python",
   "name": "python",
   "nbconvert_exporter": "python",
   "pygments_lexer": "ipython3",
   "version": "3.7.10"
  }
 },
 "nbformat": 4,
 "nbformat_minor": 5
}
