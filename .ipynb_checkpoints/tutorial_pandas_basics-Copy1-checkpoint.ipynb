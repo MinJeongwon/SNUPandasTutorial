{
 "cells": [
  {
   "cell_type": "markdown",
   "id": "architectural-official",
   "metadata": {},
   "source": [
    "# Pandas Tutorial"
   ]
  },
  {
   "cell_type": "markdown",
   "id": "smooth-portland",
   "metadata": {},
   "source": [
    "## what is pandas?"
   ]
  },
  {
   "cell_type": "markdown",
   "id": "equal-automation",
   "metadata": {},
   "source": [
    "```\n",
    "source : https://pandas.pydata.org/docs/getting_started/overview.html\n",
    "\n",
    "Pandas is a Python package providing fast, flexible, and expressive data structures designed to make working with “relational” or “labeled” data both easy and intuitive. It aims to be the fundamental high-level building block for doing practical, real-world data analysis in Python. Additionally, it has the broader goal of becoming the most powerful and flexible open source data analysis/manipulation tool available in any language. It is already well on its way toward this goal.\n",
    "\n",
    "```"
   ]
  },
  {
   "cell_type": "code",
   "execution_count": null,
   "id": "sustainable-glossary",
   "metadata": {},
   "outputs": [],
   "source": []
  },
  {
   "cell_type": "markdown",
   "id": "dedicated-technical",
   "metadata": {},
   "source": [
    "# 1. loading modules"
   ]
  },
  {
   "cell_type": "code",
   "execution_count": 1,
   "id": "minute-malaysia",
   "metadata": {},
   "outputs": [],
   "source": [
    "from IPython.display import Image\n",
    "import pandas as pd #pd is an alias for pandas\n",
    "import numpy as np #np is an alias for numpy\n",
    "import matplotlib.pyplot as plt #plt is an alias for pyplot\n",
    "\n",
    "#alias : The community agreed alias for pandas is pd, so loading pandas as pd is assumed standard practice for all of the pandas documentation."
   ]
  },
  {
   "cell_type": "markdown",
   "id": "peripheral-disorder",
   "metadata": {},
   "source": [
    "!pip install pandas"
   ]
  },
  {
   "cell_type": "markdown",
   "id": "placed-turkey",
   "metadata": {},
   "source": [
    "```\n",
    "source : https://pandas.pydata.org/docs/getting_started/overview.html\n",
    "\n",
    "two primary data structures of pandas\n",
    "    1. Series : 1D labeled array\n",
    "    2. DataFrame : general 2D labeled structure\n",
    "```"
   ]
  },
  {
   "cell_type": "markdown",
   "id": "dominant-graphic",
   "metadata": {},
   "source": [
    "![image](./images/SeriesandDataframe.png)"
   ]
  },
  {
   "cell_type": "markdown",
   "id": "armed-ecology",
   "metadata": {},
   "source": [
    "source : https://www.learndatasci.com/tutorials/python-pandas-tutorial-complete-introduction-for-beginners/"
   ]
  },
  {
   "cell_type": "code",
   "execution_count": null,
   "id": "distributed-suffering",
   "metadata": {},
   "outputs": [],
   "source": []
  },
  {
   "cell_type": "markdown",
   "id": "thirty-catch",
   "metadata": {},
   "source": [
    "# 2. creating a Series"
   ]
  },
  {
   "cell_type": "markdown",
   "id": "hindu-shareware",
   "metadata": {},
   "source": [
    "## 2-1. using list"
   ]
  },
  {
   "cell_type": "code",
   "execution_count": 2,
   "id": "careful-tract",
   "metadata": {},
   "outputs": [
    {
     "data": {
      "text/plain": [
       "0    1\n",
       "1    2\n",
       "2    3\n",
       "3    4\n",
       "dtype: int64"
      ]
     },
     "execution_count": 2,
     "metadata": {},
     "output_type": "execute_result"
    }
   ],
   "source": [
    "sr1 = pd.Series([1, 2, 3, 4])\n",
    "sr1"
   ]
  },
  {
   "cell_type": "markdown",
   "id": "vocational-command",
   "metadata": {},
   "source": [
    "**values of series**"
   ]
  },
  {
   "cell_type": "code",
   "execution_count": 3,
   "id": "furnished-persian",
   "metadata": {},
   "outputs": [
    {
     "data": {
      "text/plain": [
       "array([1, 2, 3, 4])"
      ]
     },
     "execution_count": 3,
     "metadata": {},
     "output_type": "execute_result"
    }
   ],
   "source": [
    "sr1.values"
   ]
  },
  {
   "cell_type": "markdown",
   "id": "favorite-funds",
   "metadata": {},
   "source": [
    "**indices of series**"
   ]
  },
  {
   "cell_type": "code",
   "execution_count": 4,
   "id": "golden-excerpt",
   "metadata": {},
   "outputs": [
    {
     "data": {
      "text/plain": [
       "RangeIndex(start=0, stop=4, step=1)"
      ]
     },
     "execution_count": 4,
     "metadata": {},
     "output_type": "execute_result"
    }
   ],
   "source": [
    "sr1.index"
   ]
  },
  {
   "cell_type": "markdown",
   "id": "fantastic-enough",
   "metadata": {},
   "source": [
    "**setting indices**"
   ]
  },
  {
   "cell_type": "code",
   "execution_count": 7,
   "id": "dental-rugby",
   "metadata": {},
   "outputs": [
    {
     "data": {
      "text/plain": [
       "a    1\n",
       "b    2\n",
       "c    3\n",
       "d    4\n",
       "dtype: int64"
      ]
     },
     "execution_count": 7,
     "metadata": {},
     "output_type": "execute_result"
    }
   ],
   "source": [
    "sr2 = pd.Series([1, 2, 3, 4], index=['a', 'b', 'c', 'd'])\n",
    "sr2"
   ]
  },
  {
   "cell_type": "code",
   "execution_count": 8,
   "id": "residential-session",
   "metadata": {},
   "outputs": [
    {
     "data": {
      "text/plain": [
       "Index(['a', 'b', 'c', 'd'], dtype='object')"
      ]
     },
     "execution_count": 8,
     "metadata": {},
     "output_type": "execute_result"
    }
   ],
   "source": [
    "sr2.index"
   ]
  },
  {
   "cell_type": "code",
   "execution_count": 12,
   "id": "recreational-medication",
   "metadata": {},
   "outputs": [
    {
     "data": {
      "text/plain": [
       "apple         100\n",
       "banana        200\n",
       "watermelon    300\n",
       "grapes        400\n",
       "orange        500\n",
       "dtype: int64"
      ]
     },
     "execution_count": 12,
     "metadata": {},
     "output_type": "execute_result"
    }
   ],
   "source": [
    "values = [100, 200, 300, 400, 500]\n",
    "index = ['apple', 'banana', 'watermelon', 'grapes', 'orange']\n",
    "sr3 = pd.Series(values, index=index)\n",
    "sr3"
   ]
  },
  {
   "cell_type": "markdown",
   "id": "heard-argentina",
   "metadata": {},
   "source": [
    "**changing indices**"
   ]
  },
  {
   "cell_type": "code",
   "execution_count": 13,
   "id": "female-delaware",
   "metadata": {},
   "outputs": [
    {
     "data": {
      "text/plain": [
       "Seoul      100\n",
       "Pusan      200\n",
       "Daegu      300\n",
       "Daejeon    400\n",
       "Incheon    500\n",
       "dtype: int64"
      ]
     },
     "execution_count": 13,
     "metadata": {},
     "output_type": "execute_result"
    }
   ],
   "source": [
    "sr3.index = ['Seoul', 'Pusan', 'Daegu', 'Daejeon', 'Incheon']\n",
    "sr3"
   ]
  },
  {
   "cell_type": "code",
   "execution_count": null,
   "id": "assured-silver",
   "metadata": {},
   "outputs": [],
   "source": []
  },
  {
   "cell_type": "code",
   "execution_count": null,
   "id": "assigned-nigeria",
   "metadata": {},
   "outputs": [],
   "source": []
  },
  {
   "cell_type": "markdown",
   "id": "psychological-perception",
   "metadata": {},
   "source": [
    "## 2-2. using dictionary"
   ]
  },
  {
   "cell_type": "code",
   "execution_count": 19,
   "id": "personalized-laugh",
   "metadata": {},
   "outputs": [
    {
     "data": {
      "text/plain": [
       "Kim     100\n",
       "Park    200\n",
       "Lee     300\n",
       "Choi    400\n",
       "dtype: int64"
      ]
     },
     "execution_count": 19,
     "metadata": {},
     "output_type": "execute_result"
    }
   ],
   "source": [
    "sdata = {'Kim' : 100, 'Park' : 200, 'Lee' : 300, 'Choi' : 400}\n",
    "sr4 = pd.Series(sata)\n",
    "sr4"
   ]
  },
  {
   "cell_type": "code",
   "execution_count": null,
   "id": "dimensional-sharp",
   "metadata": {},
   "outputs": [],
   "source": []
  },
  {
   "cell_type": "code",
   "execution_count": null,
   "id": "meaningful-tower",
   "metadata": {},
   "outputs": [],
   "source": []
  },
  {
   "cell_type": "markdown",
   "id": "incorporated-deficit",
   "metadata": {},
   "source": [
    "# 3. access data from Series\n",
    "https://www.tutorialspoint.com/python_pandas/python_pandas_series.htm"
   ]
  },
  {
   "cell_type": "markdown",
   "id": "standard-specification",
   "metadata": {},
   "source": [
    "## 3-1. single data"
   ]
  },
  {
   "cell_type": "code",
   "execution_count": 35,
   "id": "welcome-purpose",
   "metadata": {},
   "outputs": [
    {
     "data": {
      "text/plain": [
       "a    1\n",
       "b    2\n",
       "c    3\n",
       "d    4\n",
       "dtype: int64"
      ]
     },
     "execution_count": 35,
     "metadata": {},
     "output_type": "execute_result"
    }
   ],
   "source": [
    "sr2 = pd.Series([1, 2, 3, 4], index=['a', 'b', 'c', 'd']) #series from above\n",
    "sr2"
   ]
  },
  {
   "cell_type": "code",
   "execution_count": 37,
   "id": "synthetic-visibility",
   "metadata": {},
   "outputs": [
    {
     "data": {
      "text/plain": [
       "1"
      ]
     },
     "execution_count": 37,
     "metadata": {},
     "output_type": "execute_result"
    }
   ],
   "source": [
    "sr2[0]"
   ]
  },
  {
   "cell_type": "code",
   "execution_count": 38,
   "id": "historical-leone",
   "metadata": {},
   "outputs": [
    {
     "data": {
      "text/plain": [
       "4"
      ]
     },
     "execution_count": 38,
     "metadata": {},
     "output_type": "execute_result"
    }
   ],
   "source": [
    "sr2[3]"
   ]
  },
  {
   "cell_type": "code",
   "execution_count": 39,
   "id": "focal-biotechnology",
   "metadata": {},
   "outputs": [
    {
     "ename": "IndexError",
     "evalue": "index 6 is out of bounds for axis 0 with size 4",
     "output_type": "error",
     "traceback": [
      "\u001b[0;31m---------------------------------------------------------------------------\u001b[0m",
      "\u001b[0;31mIndexError\u001b[0m                                Traceback (most recent call last)",
      "\u001b[0;32m<ipython-input-39-dab3eb05a54c>\u001b[0m in \u001b[0;36m<module>\u001b[0;34m\u001b[0m\n\u001b[0;32m----> 1\u001b[0;31m \u001b[0msr2\u001b[0m\u001b[0;34m[\u001b[0m\u001b[0;36m6\u001b[0m\u001b[0;34m]\u001b[0m\u001b[0;34m\u001b[0m\u001b[0;34m\u001b[0m\u001b[0m\n\u001b[0m",
      "\u001b[0;32m~/anaconda3/envs/tf2/lib/python3.7/site-packages/pandas/core/series.py\u001b[0m in \u001b[0;36m__getitem__\u001b[0;34m(self, key)\u001b[0m\n\u001b[1;32m    848\u001b[0m \u001b[0;34m\u001b[0m\u001b[0m\n\u001b[1;32m    849\u001b[0m         \u001b[0;32mif\u001b[0m \u001b[0mis_integer\u001b[0m\u001b[0;34m(\u001b[0m\u001b[0mkey\u001b[0m\u001b[0;34m)\u001b[0m \u001b[0;32mand\u001b[0m \u001b[0mself\u001b[0m\u001b[0;34m.\u001b[0m\u001b[0mindex\u001b[0m\u001b[0;34m.\u001b[0m\u001b[0m_should_fallback_to_positional\u001b[0m\u001b[0;34m(\u001b[0m\u001b[0;34m)\u001b[0m\u001b[0;34m:\u001b[0m\u001b[0;34m\u001b[0m\u001b[0;34m\u001b[0m\u001b[0m\n\u001b[0;32m--> 850\u001b[0;31m             \u001b[0;32mreturn\u001b[0m \u001b[0mself\u001b[0m\u001b[0;34m.\u001b[0m\u001b[0m_values\u001b[0m\u001b[0;34m[\u001b[0m\u001b[0mkey\u001b[0m\u001b[0;34m]\u001b[0m\u001b[0;34m\u001b[0m\u001b[0;34m\u001b[0m\u001b[0m\n\u001b[0m\u001b[1;32m    851\u001b[0m \u001b[0;34m\u001b[0m\u001b[0m\n\u001b[1;32m    852\u001b[0m         \u001b[0;32melif\u001b[0m \u001b[0mkey_is_scalar\u001b[0m\u001b[0;34m:\u001b[0m\u001b[0;34m\u001b[0m\u001b[0;34m\u001b[0m\u001b[0m\n",
      "\u001b[0;31mIndexError\u001b[0m: index 6 is out of bounds for axis 0 with size 4"
     ]
    }
   ],
   "source": [
    "sr2[6]"
   ]
  },
  {
   "cell_type": "code",
   "execution_count": 40,
   "id": "geological-investigation",
   "metadata": {},
   "outputs": [
    {
     "data": {
      "text/plain": [
       "4"
      ]
     },
     "execution_count": 40,
     "metadata": {},
     "output_type": "execute_result"
    }
   ],
   "source": [
    "sr2[-1]"
   ]
  },
  {
   "cell_type": "markdown",
   "id": "interracial-implementation",
   "metadata": {},
   "source": [
    "## 3-2. a range of data"
   ]
  },
  {
   "cell_type": "code",
   "execution_count": 41,
   "id": "cooked-robinson",
   "metadata": {},
   "outputs": [
    {
     "data": {
      "text/plain": [
       "a    1\n",
       "b    2\n",
       "dtype: int64"
      ]
     },
     "execution_count": 41,
     "metadata": {},
     "output_type": "execute_result"
    }
   ],
   "source": [
    "sr2[:2]"
   ]
  },
  {
   "cell_type": "code",
   "execution_count": 42,
   "id": "extended-documentary",
   "metadata": {},
   "outputs": [
    {
     "data": {
      "text/plain": [
       "a    1\n",
       "b    2\n",
       "c    3\n",
       "dtype: int64"
      ]
     },
     "execution_count": 42,
     "metadata": {},
     "output_type": "execute_result"
    }
   ],
   "source": [
    "sr2[:3]"
   ]
  },
  {
   "cell_type": "code",
   "execution_count": 43,
   "id": "powerful-chain",
   "metadata": {},
   "outputs": [
    {
     "data": {
      "text/plain": [
       "a    1\n",
       "b    2\n",
       "c    3\n",
       "d    4\n",
       "dtype: int64"
      ]
     },
     "execution_count": 43,
     "metadata": {},
     "output_type": "execute_result"
    }
   ],
   "source": [
    "sr2[:]"
   ]
  },
  {
   "cell_type": "code",
   "execution_count": null,
   "id": "correct-ethiopia",
   "metadata": {},
   "outputs": [],
   "source": []
  },
  {
   "cell_type": "code",
   "execution_count": null,
   "id": "verified-project",
   "metadata": {},
   "outputs": [],
   "source": []
  },
  {
   "cell_type": "code",
   "execution_count": null,
   "id": "sorted-brisbane",
   "metadata": {},
   "outputs": [],
   "source": []
  },
  {
   "cell_type": "code",
   "execution_count": null,
   "id": "urban-motorcycle",
   "metadata": {},
   "outputs": [],
   "source": []
  },
  {
   "cell_type": "code",
   "execution_count": null,
   "id": "liberal-dutch",
   "metadata": {},
   "outputs": [],
   "source": []
  },
  {
   "cell_type": "code",
   "execution_count": null,
   "id": "mexican-honduras",
   "metadata": {},
   "outputs": [],
   "source": []
  },
  {
   "cell_type": "markdown",
   "id": "sporting-wichita",
   "metadata": {},
   "source": [
    "# 2-3. Quiz\n",
    "\n",
    "1. Return the values of sr4.\n",
    "2. Return the indices of sr4.\n",
    "3. Change the names of indices into green, yellow, blue, red and print sr4\n",
    "4. Create the same series as below using dictionary. Name it as sr5 and print the result.\n",
    "\n",
    "![image](./images/quiz1-4.png)"
   ]
  },
  {
   "cell_type": "markdown",
   "id": "insured-refrigerator",
   "metadata": {},
   "source": [
    "sdata2 = {1 : 'Thomas', 2 : 'Jane', 3 : 'Edward', 4 : 'Jessica', 5 : 'Irene'}\n",
    "sr5 = pd.Series(sdata2)\n",
    "sr5"
   ]
  },
  {
   "cell_type": "code",
   "execution_count": null,
   "id": "alert-referral",
   "metadata": {},
   "outputs": [],
   "source": []
  },
  {
   "cell_type": "code",
   "execution_count": null,
   "id": "mature-theory",
   "metadata": {},
   "outputs": [],
   "source": []
  },
  {
   "cell_type": "markdown",
   "id": "anonymous-cursor",
   "metadata": {},
   "source": [
    "# 3. creating DataFrames\n",
    "\n",
    "you can construct a DataFrame using\n",
    "1. list\n",
    "2. dictionary\n",
    "3. series\n",
    "4. numpy ndarray\n",
    "5. DataFrame\n",
    "\n",
    "source : https://wikidocs.net/32829"
   ]
  },
  {
   "cell_type": "markdown",
   "id": "dated-truth",
   "metadata": {},
   "source": [
    "## 3-1. using list"
   ]
  },
  {
   "cell_type": "code",
   "execution_count": 30,
   "id": "transsexual-peeing",
   "metadata": {},
   "outputs": [
    {
     "name": "stdout",
     "output_type": "stream",
     "text": [
      "      0       1  2\n",
      "0  1000     dog  4\n",
      "1  1001     cow  4\n",
      "2  1002    bird  2\n",
      "3  1003     ant  6\n",
      "4  1004  spider  8\n",
      "5  1005     cat  4\n"
     ]
    }
   ],
   "source": [
    "ddata = [\n",
    "        [1000, 'dog', 4], \n",
    "        [1001, 'cow', 4], \n",
    "        [1002, 'bird', 2], \n",
    "        [1003, 'ant', 6], \n",
    "        [1004, 'spider', 8],\n",
    "        [1005, 'cat', 4]\n",
    "        ]\n",
    "df1 = pd.DataFrame(ddata)\n",
    "print(df1)"
   ]
  },
  {
   "cell_type": "markdown",
   "id": "random-education",
   "metadata": {},
   "source": [
    "**setting column name**"
   ]
  },
  {
   "cell_type": "code",
   "execution_count": 32,
   "id": "optimum-tamil",
   "metadata": {},
   "outputs": [
    {
     "name": "stdout",
     "output_type": "stream",
     "text": [
      "   Number Species  Number of legs\n",
      "0    1000     dog               4\n",
      "1    1001     cow               4\n",
      "2    1002    bird               2\n",
      "3    1003     ant               6\n",
      "4    1004  spider               8\n",
      "5    1005     cat               4\n"
     ]
    }
   ],
   "source": [
    "df1 = pd.DataFrame(ddata, columns=['Number', 'Species', 'Number of legs'])\n",
    "print(df1)"
   ]
  },
  {
   "cell_type": "markdown",
   "id": "early-trouble",
   "metadata": {},
   "source": [
    "## 3-2. using dictionary"
   ]
  },
  {
   "cell_type": "code",
   "execution_count": 33,
   "id": "complete-stationery",
   "metadata": {},
   "outputs": [
    {
     "name": "stdout",
     "output_type": "stream",
     "text": [
      "   Number Species  Number of legs\n",
      "0    1000     dog               4\n",
      "1    1001     cow               4\n",
      "2    1002    bird               2\n",
      "3    1003     ant               6\n",
      "4    1004  spider               8\n",
      "5    1005     cat               4\n"
     ]
    }
   ],
   "source": [
    "ddata2 = {'Number' : [1000, 1001, 1002, 1003, 1004, 1005],\n",
    "          'Species' : ['dog', 'cow', 'bird', 'ant', 'spider', 'cat'],\n",
    "          'Number of legs' : [4, 4, 2, 6, 8, 4]}\n",
    "df2 = pd.DataFrame(ddata2)\n",
    "print(df2)"
   ]
  },
  {
   "cell_type": "code",
   "execution_count": null,
   "id": "stylish-blair",
   "metadata": {},
   "outputs": [],
   "source": []
  },
  {
   "cell_type": "code",
   "execution_count": null,
   "id": "employed-telephone",
   "metadata": {},
   "outputs": [],
   "source": []
  },
  {
   "cell_type": "code",
   "execution_count": null,
   "id": "painful-montgomery",
   "metadata": {},
   "outputs": [],
   "source": []
  },
  {
   "cell_type": "code",
   "execution_count": null,
   "id": "fifty-mailman",
   "metadata": {},
   "outputs": [],
   "source": []
  },
  {
   "cell_type": "code",
   "execution_count": null,
   "id": "worthy-central",
   "metadata": {},
   "outputs": [],
   "source": []
  },
  {
   "cell_type": "code",
   "execution_count": null,
   "id": "destroyed-stack",
   "metadata": {},
   "outputs": [],
   "source": []
  },
  {
   "cell_type": "code",
   "execution_count": null,
   "id": "finnish-satisfaction",
   "metadata": {},
   "outputs": [],
   "source": []
  },
  {
   "cell_type": "code",
   "execution_count": null,
   "id": "objective-bhutan",
   "metadata": {},
   "outputs": [],
   "source": []
  },
  {
   "cell_type": "code",
   "execution_count": null,
   "id": "sacred-fabric",
   "metadata": {},
   "outputs": [],
   "source": []
  },
  {
   "cell_type": "code",
   "execution_count": null,
   "id": "consecutive-montreal",
   "metadata": {},
   "outputs": [],
   "source": []
  },
  {
   "cell_type": "code",
   "execution_count": null,
   "id": "indie-shock",
   "metadata": {},
   "outputs": [],
   "source": []
  },
  {
   "cell_type": "code",
   "execution_count": null,
   "id": "headed-split",
   "metadata": {},
   "outputs": [],
   "source": []
  }
 ],
 "metadata": {
  "kernelspec": {
   "display_name": "Python 3",
   "language": "python",
   "name": "python3"
  },
  "language_info": {
   "codemirror_mode": {
    "name": "ipython",
    "version": 3
   },
   "file_extension": ".py",
   "mimetype": "text/x-python",
   "name": "python",
   "nbconvert_exporter": "python",
   "pygments_lexer": "ipython3",
   "version": "3.7.10"
  }
 },
 "nbformat": 4,
 "nbformat_minor": 5
}
