{
 "cells": [
  {
   "cell_type": "code",
   "execution_count": null,
   "id": "lesser-thomson",
   "metadata": {},
   "outputs": [],
   "source": []
  },
  {
   "cell_type": "code",
   "execution_count": null,
   "id": "cosmetic-chapter",
   "metadata": {},
   "outputs": [],
   "source": []
  },
  {
   "cell_type": "markdown",
   "id": "statewide-commander",
   "metadata": {},
   "source": [
    "<center><h1> Tutorial1_Series </h1></center>"
   ]
  },
  {
   "cell_type": "markdown",
   "id": "packed-whale",
   "metadata": {},
   "source": [
    "# 1. loading modules"
   ]
  },
  {
   "cell_type": "code",
   "execution_count": null,
   "id": "daily-observation",
   "metadata": {},
   "outputs": [],
   "source": [
    "!pip3 install pandas\n",
    "#!pip3 install jupyter_contrib_nbextensions\n",
    "#!jupyter contrib nbextension install --user"
   ]
  },
  {
   "cell_type": "code",
   "execution_count": null,
   "id": "involved-milwaukee",
   "metadata": {},
   "outputs": [],
   "source": [
    "import pandas as pd #pd is an alias for pandas"
   ]
  },
  {
   "cell_type": "markdown",
   "id": "accepted-crisis",
   "metadata": {},
   "source": [
    "# 2. creating Series\n",
    "\n",
    "You can construct a Series using\n",
    "1. list\n",
    "2. dictionary\n",
    "3. numpy ndarray"
   ]
  },
  {
   "cell_type": "markdown",
   "id": "smoking-slope",
   "metadata": {},
   "source": [
    "### 2-1. using list"
   ]
  },
  {
   "cell_type": "code",
   "execution_count": null,
   "id": "apparent-sudan",
   "metadata": {},
   "outputs": [],
   "source": [
    "sr1 = pd.Series([1, 2, 3, 4]) \n",
    "sr1"
   ]
  },
  {
   "cell_type": "code",
   "execution_count": null,
   "id": "suitable-verse",
   "metadata": {},
   "outputs": [],
   "source": [
    "values = [100, 200, 300, 400, 500]\n",
    "index = ['apple', 'banana', 'watermelon', 'grapes', 'orange']\n",
    "sr2 = pd.Series(values, index=index)\n",
    "sr2"
   ]
  },
  {
   "cell_type": "markdown",
   "id": "choice-finnish",
   "metadata": {},
   "source": [
    "### 2-2. using dictionary"
   ]
  },
  {
   "cell_type": "code",
   "execution_count": null,
   "id": "tested-affair",
   "metadata": {},
   "outputs": [],
   "source": [
    "sdata = {'Kim' : 100, 'Park' : 200, 'Lee' : 300, 'Choi' : 400}\n",
    "sr3 = pd.Series(sdata)\n",
    "sr3"
   ]
  },
  {
   "cell_type": "markdown",
   "id": "collectible-harmony",
   "metadata": {},
   "source": [
    "### 2-3. QUIZ\n",
    "\n",
    "* Create the same series as below using dictionary. Name it as sr4 and print the result.\n",
    "\n",
    "![image](./images/1_quiz_2_3.png)"
   ]
  },
  {
   "cell_type": "markdown",
   "id": "cardiovascular-genre",
   "metadata": {},
   "source": [
    "### Answer"
   ]
  },
  {
   "cell_type": "code",
   "execution_count": null,
   "id": "recorded-beginning",
   "metadata": {},
   "outputs": [],
   "source": []
  },
  {
   "cell_type": "markdown",
   "id": "optimum-college",
   "metadata": {},
   "source": [
    "# 3. values and indices"
   ]
  },
  {
   "cell_type": "markdown",
   "id": "differential-trustee",
   "metadata": {},
   "source": [
    "### 3-1. values of series"
   ]
  },
  {
   "cell_type": "code",
   "execution_count": null,
   "id": "requested-start",
   "metadata": {},
   "outputs": [],
   "source": [
    "sdata = {'Kim' : 100, 'Park' : 200, 'Lee' : 300, 'Choi' : 400}\n",
    "sr3 = pd.Series(sdata)\n",
    "sr3 #series from above"
   ]
  },
  {
   "cell_type": "code",
   "execution_count": null,
   "id": "civic-photography",
   "metadata": {},
   "outputs": [],
   "source": [
    "sr3.values"
   ]
  },
  {
   "cell_type": "markdown",
   "id": "optical-serve",
   "metadata": {},
   "source": [
    "### 3-2. indices of series"
   ]
  },
  {
   "cell_type": "code",
   "execution_count": null,
   "id": "ecological-prospect",
   "metadata": {},
   "outputs": [],
   "source": [
    "sr3.index"
   ]
  },
  {
   "cell_type": "markdown",
   "id": "cardiac-isaac",
   "metadata": {},
   "source": [
    "### 3-3. changing indices"
   ]
  },
  {
   "cell_type": "code",
   "execution_count": null,
   "id": "incomplete-cincinnati",
   "metadata": {},
   "outputs": [],
   "source": [
    "sr3.index = ['Seoul', 'Pusan', 'Daegu', 'Daejeon']\n",
    "sr3"
   ]
  },
  {
   "cell_type": "markdown",
   "id": "passing-parks",
   "metadata": {},
   "source": [
    "### 3-4. QUIZ\n",
    "\n",
    "* Change the names of indices in sr3 into 'green, yellow, blue, red', and return the result."
   ]
  },
  {
   "cell_type": "markdown",
   "id": "romance-compiler",
   "metadata": {},
   "source": [
    "### Answer"
   ]
  },
  {
   "cell_type": "code",
   "execution_count": null,
   "id": "adult-radical",
   "metadata": {},
   "outputs": [],
   "source": []
  },
  {
   "cell_type": "markdown",
   "id": "static-portsmouth",
   "metadata": {},
   "source": [
    "# 4. access data from Series"
   ]
  },
  {
   "cell_type": "code",
   "execution_count": null,
   "id": "vital-dependence",
   "metadata": {},
   "outputs": [],
   "source": [
    "sr4 = pd.Series([100, 200, 300, 400], index=['a', 'b', 'c', 'd']) #series from above\n",
    "sr4"
   ]
  },
  {
   "cell_type": "markdown",
   "id": "suited-macedonia",
   "metadata": {},
   "source": [
    "### 4-1. single element"
   ]
  },
  {
   "cell_type": "code",
   "execution_count": null,
   "id": "synthetic-setup",
   "metadata": {},
   "outputs": [],
   "source": [
    "sr4[0]"
   ]
  },
  {
   "cell_type": "code",
   "execution_count": null,
   "id": "comfortable-report",
   "metadata": {},
   "outputs": [],
   "source": [
    "sr4[3]"
   ]
  },
  {
   "cell_type": "code",
   "execution_count": null,
   "id": "severe-hungary",
   "metadata": {},
   "outputs": [],
   "source": [
    "sr4[6] #error when the index is out of range"
   ]
  },
  {
   "cell_type": "code",
   "execution_count": null,
   "id": "verified-sunset",
   "metadata": {},
   "outputs": [],
   "source": [
    "sr4[-1] #-1 : the last element"
   ]
  },
  {
   "cell_type": "markdown",
   "id": "metallic-debate",
   "metadata": {},
   "source": [
    "### 4-2. multiple elements"
   ]
  },
  {
   "cell_type": "code",
   "execution_count": null,
   "id": "civic-snowboard",
   "metadata": {},
   "outputs": [],
   "source": [
    "sr4[0:3] #the last element is excluded"
   ]
  },
  {
   "cell_type": "code",
   "execution_count": null,
   "id": "coupled-external",
   "metadata": {},
   "outputs": [],
   "source": [
    "sr4[:3]"
   ]
  },
  {
   "cell_type": "code",
   "execution_count": null,
   "id": "located-fluid",
   "metadata": {},
   "outputs": [],
   "source": [
    "sr4[:]"
   ]
  },
  {
   "cell_type": "markdown",
   "id": "greatest-night",
   "metadata": {},
   "source": [
    "### 4-3. retrieving data "
   ]
  },
  {
   "cell_type": "code",
   "execution_count": null,
   "id": "interior-uniform",
   "metadata": {},
   "outputs": [],
   "source": [
    "sr4['a']"
   ]
  },
  {
   "cell_type": "code",
   "execution_count": null,
   "id": "fourth-chess",
   "metadata": {},
   "outputs": [],
   "source": [
    "sr4['a':'c']"
   ]
  },
  {
   "cell_type": "code",
   "execution_count": null,
   "id": "utility-melissa",
   "metadata": {},
   "outputs": [],
   "source": [
    "sr4[:'b']"
   ]
  },
  {
   "cell_type": "markdown",
   "id": "statewide-geography",
   "metadata": {},
   "source": [
    "### 4-4. QUIZ"
   ]
  },
  {
   "cell_type": "markdown",
   "id": "bulgarian-translator",
   "metadata": {},
   "source": [
    "* Create the Series below and retrieve the last three elements.   \n",
    "![image](./images/1_quiz_4_4.png)"
   ]
  },
  {
   "cell_type": "markdown",
   "id": "sharing-commodity",
   "metadata": {},
   "source": [
    "### Answer"
   ]
  },
  {
   "cell_type": "code",
   "execution_count": null,
   "id": "wireless-removal",
   "metadata": {},
   "outputs": [],
   "source": []
  },
  {
   "cell_type": "code",
   "execution_count": null,
   "id": "handy-rescue",
   "metadata": {},
   "outputs": [],
   "source": []
  }
 ],
 "metadata": {
  "kernelspec": {
   "display_name": "Python 3",
   "language": "python",
   "name": "python3"
  },
  "language_info": {
   "codemirror_mode": {
    "name": "ipython",
    "version": 3
   },
   "file_extension": ".py",
   "mimetype": "text/x-python",
   "name": "python",
   "nbconvert_exporter": "python",
   "pygments_lexer": "ipython3",
   "version": "3.8.6"
  },
  "toc": {
   "base_numbering": 1,
   "nav_menu": {},
   "number_sections": false,
   "sideBar": true,
   "skip_h1_title": false,
   "title_cell": "Table of Contents",
   "title_sidebar": "Contents",
   "toc_cell": false,
   "toc_position": {},
   "toc_section_display": true,
   "toc_window_display": true
  }
 },
 "nbformat": 4,
 "nbformat_minor": 5
}
