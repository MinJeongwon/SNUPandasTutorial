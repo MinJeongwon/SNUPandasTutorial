{
 "cells": [
  {
   "cell_type": "markdown",
   "id": "separated-month",
   "metadata": {},
   "source": [
    "# Pandas Tutorial 1 - Series"
   ]
  },
  {
   "cell_type": "markdown",
   "id": "chinese-identifier",
   "metadata": {},
   "source": [
    "## what is pandas?"
   ]
  },
  {
   "cell_type": "markdown",
   "id": "cubic-acquisition",
   "metadata": {},
   "source": [
    "```\n",
    "source : https://pandas.pydata.org/docs/getting_started/overview.html\n",
    "\n",
    "Pandas is a Python package providing fast, flexible, and expressive data structures designed to make working with “relational” or “labeled” data both easy and intuitive. It aims to be the fundamental high-level building block for doing practical, real-world data analysis in Python. Additionally, it has the broader goal of becoming the most powerful and flexible open source data analysis/manipulation tool available in any language. It is already well on its way toward this goal.\n",
    "\n",
    "```"
   ]
  },
  {
   "cell_type": "markdown",
   "id": "packed-whale",
   "metadata": {},
   "source": [
    "# 1. loading modules"
   ]
  },
  {
   "cell_type": "code",
   "execution_count": 78,
   "id": "involved-milwaukee",
   "metadata": {},
   "outputs": [],
   "source": [
    "import pandas as pd #pd is an alias for pandas\n",
    "import numpy as np #np is an alias for numpy\n",
    "import matplotlib.pyplot as plt #plt is an alias for pyplot\n",
    "\n",
    "#alias : The community agreed alias for pandas is pd, so loading pandas as pd is assumed standard practice for all of the pandas documentation."
   ]
  },
  {
   "cell_type": "markdown",
   "id": "vocational-sheep",
   "metadata": {},
   "source": [
    "!pip install pandas"
   ]
  },
  {
   "cell_type": "markdown",
   "id": "better-slovakia",
   "metadata": {},
   "source": [
    "source : https://pandas.pydata.org/docs/getting_started/overview.html\n",
    "\n",
    "two primary data structures of pandas   \n",
    "    1. Series : 1D labeled array   \n",
    "    2. DataFrame : general 2D labeled structure   "
   ]
  },
  {
   "cell_type": "markdown",
   "id": "ranging-edgar",
   "metadata": {},
   "source": [
    "![image](./images/SeriesandDataframe.png)\n",
    "source : https://www.learndatasci.com/tutorials/python-pandas-tutorial-complete-introduction-for-beginners/"
   ]
  },
  {
   "cell_type": "markdown",
   "id": "accepted-crisis",
   "metadata": {},
   "source": [
    "# 2. creating Series\n",
    "\n",
    "You can construct a Series using\n",
    "1. list\n",
    "2. dictionary\n",
    "3. numpy ndarray\n",
    "\n",
    "source : https://wikidocs.net/32829     \n",
    "https://doorbw.tistory.com/172(상단)          \n",
    "https://www.tutorialspoint.com/python_pandas/python_pandas_series.htm   \n",
    "https://pandas.pydata.org/pandas-docs/stable/reference/api/pandas.Series.html(하단)  "
   ]
  },
  {
   "cell_type": "markdown",
   "id": "smoking-slope",
   "metadata": {},
   "source": [
    "### 2-1. using list"
   ]
  },
  {
   "cell_type": "code",
   "execution_count": 21,
   "id": "apparent-sudan",
   "metadata": {},
   "outputs": [
    {
     "data": {
      "text/plain": [
       "0    1\n",
       "1    2\n",
       "2    3\n",
       "3    4\n",
       "dtype: int64"
      ]
     },
     "execution_count": 21,
     "metadata": {},
     "output_type": "execute_result"
    }
   ],
   "source": [
    "sr1 = pd.Series([1, 2, 3, 4])\n",
    "sr1"
   ]
  },
  {
   "cell_type": "code",
   "execution_count": 26,
   "id": "suitable-verse",
   "metadata": {},
   "outputs": [
    {
     "data": {
      "text/plain": [
       "apple         100\n",
       "banana        200\n",
       "watermelon    300\n",
       "grapes        400\n",
       "orange        500\n",
       "dtype: int64"
      ]
     },
     "execution_count": 26,
     "metadata": {},
     "output_type": "execute_result"
    }
   ],
   "source": [
    "values = [100, 200, 300, 400, 500]\n",
    "index = ['apple', 'banana', 'watermelon', 'grapes', 'orange']\n",
    "sr2 = pd.Series(values, index=index)\n",
    "sr2"
   ]
  },
  {
   "cell_type": "markdown",
   "id": "choice-finnish",
   "metadata": {},
   "source": [
    "### 2-2. using dictionary"
   ]
  },
  {
   "cell_type": "code",
   "execution_count": 27,
   "id": "tested-affair",
   "metadata": {},
   "outputs": [
    {
     "data": {
      "text/plain": [
       "Kim     100\n",
       "Park    200\n",
       "Lee     300\n",
       "Choi    400\n",
       "dtype: int64"
      ]
     },
     "execution_count": 27,
     "metadata": {},
     "output_type": "execute_result"
    }
   ],
   "source": [
    "sdata = {'Kim' : 100, 'Park' : 200, 'Lee' : 300, 'Choi' : 400}\n",
    "sr3 = pd.Series(sdata)\n",
    "sr3"
   ]
  },
  {
   "cell_type": "markdown",
   "id": "collectible-harmony",
   "metadata": {},
   "source": [
    "### 2-3. QUIZ\n",
    "\n",
    "* Create the same series as below using dictionary. Name it as sr4 and print the result.\n",
    "\n",
    "![image](./images/quiz1-4.png)"
   ]
  },
  {
   "cell_type": "markdown",
   "id": "cardiovascular-genre",
   "metadata": {},
   "source": [
    "### Answer"
   ]
  },
  {
   "cell_type": "code",
   "execution_count": 45,
   "id": "recorded-beginning",
   "metadata": {},
   "outputs": [
    {
     "data": {
      "text/plain": [
       "1     Thomas\n",
       "2       Jane\n",
       "3     Edward\n",
       "4    Jessica\n",
       "5      Irene\n",
       "dtype: object"
      ]
     },
     "execution_count": 45,
     "metadata": {},
     "output_type": "execute_result"
    }
   ],
   "source": [
    "sdata = {1 : 'Thomas', 2 : 'Jane', 3 : 'Edward', 4 : 'Jessica', 5 : 'Irene'}\n",
    "sr4 = pd.Series(sdata)\n",
    "sr4 #series from above"
   ]
  },
  {
   "cell_type": "markdown",
   "id": "optimum-college",
   "metadata": {},
   "source": [
    "# 3. values and indices"
   ]
  },
  {
   "cell_type": "markdown",
   "id": "differential-trustee",
   "metadata": {},
   "source": [
    "### 3-1. values of series"
   ]
  },
  {
   "cell_type": "code",
   "execution_count": 38,
   "id": "requested-start",
   "metadata": {},
   "outputs": [
    {
     "data": {
      "text/plain": [
       "Kim     100\n",
       "Park    200\n",
       "Lee     300\n",
       "Choi    400\n",
       "dtype: int64"
      ]
     },
     "execution_count": 38,
     "metadata": {},
     "output_type": "execute_result"
    }
   ],
   "source": [
    "sdata = {'Kim' : 100, 'Park' : 200, 'Lee' : 300, 'Choi' : 400}\n",
    "sr3 = pd.Series(sdata)\n",
    "sr3 #series from above"
   ]
  },
  {
   "cell_type": "code",
   "execution_count": 39,
   "id": "civic-photography",
   "metadata": {},
   "outputs": [
    {
     "data": {
      "text/plain": [
       "array([100, 200, 300, 400])"
      ]
     },
     "execution_count": 39,
     "metadata": {},
     "output_type": "execute_result"
    }
   ],
   "source": [
    "sr3.values"
   ]
  },
  {
   "cell_type": "markdown",
   "id": "optical-serve",
   "metadata": {},
   "source": [
    "### 3-2. indices of series"
   ]
  },
  {
   "cell_type": "code",
   "execution_count": 40,
   "id": "ecological-prospect",
   "metadata": {},
   "outputs": [
    {
     "data": {
      "text/plain": [
       "Index(['Kim', 'Park', 'Lee', 'Choi'], dtype='object')"
      ]
     },
     "execution_count": 40,
     "metadata": {},
     "output_type": "execute_result"
    }
   ],
   "source": [
    "sr3.index"
   ]
  },
  {
   "cell_type": "markdown",
   "id": "cardiac-isaac",
   "metadata": {},
   "source": [
    "### 3-3. changing indices"
   ]
  },
  {
   "cell_type": "code",
   "execution_count": 41,
   "id": "incomplete-cincinnati",
   "metadata": {},
   "outputs": [
    {
     "data": {
      "text/plain": [
       "Seoul      100\n",
       "Pusan      200\n",
       "Daegu      300\n",
       "Daejeon    400\n",
       "dtype: int64"
      ]
     },
     "execution_count": 41,
     "metadata": {},
     "output_type": "execute_result"
    }
   ],
   "source": [
    "sr3.index = ['Seoul', 'Pusan', 'Daegu', 'Daejeon']\n",
    "sr3"
   ]
  },
  {
   "cell_type": "markdown",
   "id": "passing-parks",
   "metadata": {},
   "source": [
    "### 3-4. QUIZ\n",
    "\n",
    "* Change the names of indices in sr3 into green, yellow, blue, red and return the result."
   ]
  },
  {
   "cell_type": "markdown",
   "id": "romance-compiler",
   "metadata": {},
   "source": [
    "### Answer"
   ]
  },
  {
   "cell_type": "code",
   "execution_count": 44,
   "id": "adult-radical",
   "metadata": {},
   "outputs": [
    {
     "data": {
      "text/plain": [
       "green     100\n",
       "yellow    200\n",
       "blue      300\n",
       "red       400\n",
       "dtype: int64"
      ]
     },
     "execution_count": 44,
     "metadata": {},
     "output_type": "execute_result"
    }
   ],
   "source": [
    "sr3.index = ['green', 'yellow', 'blue', 'red']\n",
    "sr3"
   ]
  },
  {
   "cell_type": "markdown",
   "id": "static-portsmouth",
   "metadata": {},
   "source": [
    "# 4. access data from Series\n",
    "https://www.tutorialspoint.com/python_pandas/python_pandas_series.htm"
   ]
  },
  {
   "cell_type": "markdown",
   "id": "suited-macedonia",
   "metadata": {},
   "source": [
    "### 4-1. single element"
   ]
  },
  {
   "cell_type": "code",
   "execution_count": 61,
   "id": "united-hindu",
   "metadata": {
    "scrolled": true
   },
   "outputs": [
    {
     "data": {
      "text/plain": [
       "a    100\n",
       "b    200\n",
       "c    300\n",
       "d    400\n",
       "dtype: int64"
      ]
     },
     "execution_count": 61,
     "metadata": {},
     "output_type": "execute_result"
    }
   ],
   "source": [
    "sr4 = pd.Series([100, 200, 300, 400], index=['a', 'b', 'c', 'd']) #series from above\n",
    "sr4"
   ]
  },
  {
   "cell_type": "code",
   "execution_count": 62,
   "id": "synthetic-setup",
   "metadata": {},
   "outputs": [
    {
     "data": {
      "text/plain": [
       "100"
      ]
     },
     "execution_count": 62,
     "metadata": {},
     "output_type": "execute_result"
    }
   ],
   "source": [
    "sr4[0]"
   ]
  },
  {
   "cell_type": "code",
   "execution_count": 63,
   "id": "comfortable-report",
   "metadata": {},
   "outputs": [
    {
     "data": {
      "text/plain": [
       "400"
      ]
     },
     "execution_count": 63,
     "metadata": {},
     "output_type": "execute_result"
    }
   ],
   "source": [
    "sr4[3]"
   ]
  },
  {
   "cell_type": "code",
   "execution_count": 64,
   "id": "severe-hungary",
   "metadata": {},
   "outputs": [
    {
     "ename": "IndexError",
     "evalue": "index 6 is out of bounds for axis 0 with size 4",
     "output_type": "error",
     "traceback": [
      "\u001b[0;31m---------------------------------------------------------------------------\u001b[0m",
      "\u001b[0;31mIndexError\u001b[0m                                Traceback (most recent call last)",
      "\u001b[0;32m<ipython-input-64-619914168388>\u001b[0m in \u001b[0;36m<module>\u001b[0;34m\u001b[0m\n\u001b[0;32m----> 1\u001b[0;31m \u001b[0msr4\u001b[0m\u001b[0;34m[\u001b[0m\u001b[0;36m6\u001b[0m\u001b[0;34m]\u001b[0m \u001b[0;31m#error when the index is out of range\u001b[0m\u001b[0;34m\u001b[0m\u001b[0;34m\u001b[0m\u001b[0m\n\u001b[0m",
      "\u001b[0;32m~/anaconda3/envs/tf2/lib/python3.7/site-packages/pandas/core/series.py\u001b[0m in \u001b[0;36m__getitem__\u001b[0;34m(self, key)\u001b[0m\n\u001b[1;32m    848\u001b[0m \u001b[0;34m\u001b[0m\u001b[0m\n\u001b[1;32m    849\u001b[0m         \u001b[0;32mif\u001b[0m \u001b[0mis_integer\u001b[0m\u001b[0;34m(\u001b[0m\u001b[0mkey\u001b[0m\u001b[0;34m)\u001b[0m \u001b[0;32mand\u001b[0m \u001b[0mself\u001b[0m\u001b[0;34m.\u001b[0m\u001b[0mindex\u001b[0m\u001b[0;34m.\u001b[0m\u001b[0m_should_fallback_to_positional\u001b[0m\u001b[0;34m(\u001b[0m\u001b[0;34m)\u001b[0m\u001b[0;34m:\u001b[0m\u001b[0;34m\u001b[0m\u001b[0;34m\u001b[0m\u001b[0m\n\u001b[0;32m--> 850\u001b[0;31m             \u001b[0;32mreturn\u001b[0m \u001b[0mself\u001b[0m\u001b[0;34m.\u001b[0m\u001b[0m_values\u001b[0m\u001b[0;34m[\u001b[0m\u001b[0mkey\u001b[0m\u001b[0;34m]\u001b[0m\u001b[0;34m\u001b[0m\u001b[0;34m\u001b[0m\u001b[0m\n\u001b[0m\u001b[1;32m    851\u001b[0m \u001b[0;34m\u001b[0m\u001b[0m\n\u001b[1;32m    852\u001b[0m         \u001b[0;32melif\u001b[0m \u001b[0mkey_is_scalar\u001b[0m\u001b[0;34m:\u001b[0m\u001b[0;34m\u001b[0m\u001b[0;34m\u001b[0m\u001b[0m\n",
      "\u001b[0;31mIndexError\u001b[0m: index 6 is out of bounds for axis 0 with size 4"
     ]
    }
   ],
   "source": [
    "sr4[6] #error when the index is out of range"
   ]
  },
  {
   "cell_type": "code",
   "execution_count": 65,
   "id": "verified-sunset",
   "metadata": {},
   "outputs": [
    {
     "data": {
      "text/plain": [
       "400"
      ]
     },
     "execution_count": 65,
     "metadata": {},
     "output_type": "execute_result"
    }
   ],
   "source": [
    "sr4[-1] #-1 : the last element"
   ]
  },
  {
   "cell_type": "markdown",
   "id": "metallic-debate",
   "metadata": {},
   "source": [
    "### 4-2. multiple elements"
   ]
  },
  {
   "cell_type": "code",
   "execution_count": 66,
   "id": "civic-snowboard",
   "metadata": {},
   "outputs": [
    {
     "data": {
      "text/plain": [
       "a    100\n",
       "b    200\n",
       "dtype: int64"
      ]
     },
     "execution_count": 66,
     "metadata": {},
     "output_type": "execute_result"
    }
   ],
   "source": [
    "sr4[:2]"
   ]
  },
  {
   "cell_type": "code",
   "execution_count": 67,
   "id": "coupled-external",
   "metadata": {},
   "outputs": [
    {
     "data": {
      "text/plain": [
       "a    100\n",
       "b    200\n",
       "c    300\n",
       "dtype: int64"
      ]
     },
     "execution_count": 67,
     "metadata": {},
     "output_type": "execute_result"
    }
   ],
   "source": [
    "sr4[:3]"
   ]
  },
  {
   "cell_type": "code",
   "execution_count": 68,
   "id": "located-fluid",
   "metadata": {},
   "outputs": [
    {
     "data": {
      "text/plain": [
       "a    100\n",
       "b    200\n",
       "c    300\n",
       "d    400\n",
       "dtype: int64"
      ]
     },
     "execution_count": 68,
     "metadata": {},
     "output_type": "execute_result"
    }
   ],
   "source": [
    "sr4[:]"
   ]
  },
  {
   "cell_type": "markdown",
   "id": "greatest-night",
   "metadata": {},
   "source": [
    "### 4-3. retrieving data like dictionary does"
   ]
  },
  {
   "cell_type": "code",
   "execution_count": 72,
   "id": "interior-uniform",
   "metadata": {},
   "outputs": [
    {
     "data": {
      "text/plain": [
       "100"
      ]
     },
     "execution_count": 72,
     "metadata": {},
     "output_type": "execute_result"
    }
   ],
   "source": [
    "sr4['a']"
   ]
  },
  {
   "cell_type": "code",
   "execution_count": 76,
   "id": "fourth-chess",
   "metadata": {},
   "outputs": [
    {
     "data": {
      "text/plain": [
       "a    100\n",
       "b    200\n",
       "c    300\n",
       "dtype: int64"
      ]
     },
     "execution_count": 76,
     "metadata": {},
     "output_type": "execute_result"
    }
   ],
   "source": [
    "sr4['a':'c']"
   ]
  },
  {
   "cell_type": "code",
   "execution_count": 77,
   "id": "utility-melissa",
   "metadata": {},
   "outputs": [
    {
     "data": {
      "text/plain": [
       "a    100\n",
       "b    200\n",
       "c    300\n",
       "d    400\n",
       "dtype: int64"
      ]
     },
     "execution_count": 77,
     "metadata": {},
     "output_type": "execute_result"
    }
   ],
   "source": [
    "sr4[:'d']"
   ]
  },
  {
   "cell_type": "markdown",
   "id": "statewide-geography",
   "metadata": {},
   "source": [
    "### 4-4. Quiz"
   ]
  },
  {
   "cell_type": "markdown",
   "id": "bulgarian-translator",
   "metadata": {},
   "source": [
    "* Retrieve the last three elements from the Series below using index.   \n",
    "![image](./images/quiz3-3.png)"
   ]
  },
  {
   "cell_type": "markdown",
   "id": "sharing-commodity",
   "metadata": {},
   "source": [
    "### Answer"
   ]
  },
  {
   "cell_type": "code",
   "execution_count": 71,
   "id": "wireless-removal",
   "metadata": {},
   "outputs": [
    {
     "data": {
      "text/plain": [
       "D    586\n",
       "E    168\n",
       "F    946\n",
       "dtype: int64"
      ]
     },
     "execution_count": 71,
     "metadata": {},
     "output_type": "execute_result"
    }
   ],
   "source": [
    "sr5[-3:]"
   ]
  }
 ],
 "metadata": {
  "kernelspec": {
   "display_name": "Python 3",
   "language": "python",
   "name": "python3"
  },
  "language_info": {
   "codemirror_mode": {
    "name": "ipython",
    "version": 3
   },
   "file_extension": ".py",
   "mimetype": "text/x-python",
   "name": "python",
   "nbconvert_exporter": "python",
   "pygments_lexer": "ipython3",
   "version": "3.7.10"
  }
 },
 "nbformat": 4,
 "nbformat_minor": 5
}
